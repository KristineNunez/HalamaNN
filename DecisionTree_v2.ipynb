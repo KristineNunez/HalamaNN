{
 "cells": [
  {
   "cell_type": "markdown",
   "id": "224506dd",
   "metadata": {},
   "source": [
    "# Imports"
   ]
  },
  {
   "cell_type": "code",
   "execution_count": 1,
   "id": "187e4039",
   "metadata": {},
   "outputs": [],
   "source": [
    "import numpy as np\n",
    "import pandas as pd\n",
    "from sklearn.model_selection import train_test_split\n",
    "from sklearn.tree import DecisionTreeClassifier, plot_tree\n",
    "from sklearn.metrics import confusion_matrix, classification_report\n",
    "import matplotlib.pyplot as plt\n",
    "import seaborn as sns"
   ]
  },
  {
   "cell_type": "code",
   "execution_count": 3,
   "id": "6cd0b303",
   "metadata": {},
   "outputs": [],
   "source": [
    "X_train = pd.read_csv('xy_train_v6.csv', index_col=False)\n",
    "y_train = X_train[[\"redlistCategory\"]]\n",
    "X_train = X_train.drop(columns=['internalTaxonId', 'Unnamed: 0', \"redlistCategory\"])"
   ]
  },
  {
   "cell_type": "code",
   "execution_count": 4,
   "id": "f26412c3",
   "metadata": {},
   "outputs": [],
   "source": [
    "X_test = pd.read_csv('xy_test_v6.csv', index_col=False)\n",
    "y_test = X_test[[\"redlistCategory\"]]\n",
    "X_test = X_test.drop(columns=['internalTaxonId', 'Unnamed: 0', \"redlistCategory\"])"
   ]
  },
  {
   "cell_type": "markdown",
   "id": "1b9246e5",
   "metadata": {},
   "source": [
    "# Build Decision Tree"
   ]
  },
  {
   "cell_type": "code",
   "execution_count": 5,
   "id": "9d8a77ab",
   "metadata": {},
   "outputs": [
    {
     "data": {
      "text/plain": [
       "DecisionTreeClassifier(random_state=42)"
      ]
     },
     "execution_count": 5,
     "metadata": {},
     "output_type": "execute_result"
    }
   ],
   "source": [
    "decision_tree = DecisionTreeClassifier(random_state=42)\n",
    "decision_tree.fit(X_train, y_train)"
   ]
  },
  {
   "cell_type": "code",
   "execution_count": 6,
   "id": "2ebe6ab1",
   "metadata": {},
   "outputs": [],
   "source": [
    "y_pred = decision_tree.predict(X_test)"
   ]
  },
  {
   "cell_type": "markdown",
   "id": "51fd0a22",
   "metadata": {},
   "source": [
    "## Get performance measures"
   ]
  },
  {
   "cell_type": "markdown",
   "id": "b593d6b3",
   "metadata": {},
   "source": [
    "### Confusion matrix"
   ]
  },
  {
   "cell_type": "code",
   "execution_count": 7,
   "id": "466d55ba",
   "metadata": {},
   "outputs": [
    {
     "data": {
      "image/png": "[encoded data removed]",
      "text/plain": [
       "<Figure size 432x288 with 2 Axes>"
      ]
     },
     "metadata": {
      "needs_background": "light"
     },
     "output_type": "display_data"
    }
   ],
   "source": [
    "cf_matrix = confusion_matrix(y_test, y_pred)\n",
    "ax = sns.heatmap(cf_matrix, annot=True, cmap='Blues')\n",
    "\n",
    "ax.set_title('Seaborn Confusion Matrix with labels\\n\\n')\n",
    "ax.set_xlabel('\\nPredicted Values')\n",
    "ax.set_ylabel('Actual Values ')\n",
    "plt.show()"
   ]
  },
  {
   "cell_type": "markdown",
   "id": "4f68a1c6",
   "metadata": {},
   "source": [
    "### Classification report"
   ]
  },
  {
   "cell_type": "code",
   "execution_count": 9,
   "id": "6bd645ed",
   "metadata": {},
   "outputs": [
    {
     "name": "stdout",
     "output_type": "stream",
     "text": [
      "              precision    recall  f1-score   support\n",
      "\n",
      "           0       0.86      0.87      0.86      5326\n",
      "           1       0.87      0.87      0.87      5406\n",
      "\n",
      "    accuracy                           0.87     10732\n",
      "   macro avg       0.87      0.87      0.87     10732\n",
      "weighted avg       0.87      0.87      0.87     10732\n",
      "\n"
     ]
    }
   ],
   "source": [
    "print(classification_report(y_test, y_pred, target_names=[str(i) for i in range(2)]))"
   ]
  }
 ],
 "metadata": {
  "kernelspec": {
   "display_name": "Python 3 (ipykernel)",
   "language": "python",
   "name": "python3"
  },
  "language_info": {
   "codemirror_mode": {
    "name": "ipython",
    "version": 3
   },
   "file_extension": ".py",
   "mimetype": "text/x-python",
   "name": "python",
   "nbconvert_exporter": "python",
   "pygments_lexer": "ipython3",
   "version": "3.7.13"
  }
 },
 "nbformat": 4,
 "nbformat_minor": 5
}
