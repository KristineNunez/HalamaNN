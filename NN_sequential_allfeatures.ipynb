{
 "cells": [
  {
   "cell_type": "code",
   "execution_count": 184,
   "metadata": {},
   "outputs": [],
   "source": [
    "import tensorflow as tf\n",
    "import pandas as pd\n",
    "import numpy as np\n",
    "from sklearn.model_selection import train_test_split\n",
    "from sklearn import preprocessing\n"
   ]
  },
  {
   "cell_type": "code",
   "execution_count": 185,
   "metadata": {},
   "outputs": [
    {
     "name": "stdout",
     "output_type": "stream",
     "text": [
      "X shape:  (53657, 13) y shape:  (53657, 1)\n"
     ]
    }
   ],
   "source": [
    "X = pd.read_csv('X_nothotencoded_preprocessed_fillna.csv', index_col=False)\n",
    "X = X.drop(columns=['internalTaxonId'])\n",
    "y = pd.read_csv('y_nothotencoded_preprocessed_fillna.csv', index_col=False)\n",
    "y = y[[\"redlistCategory\"]]\n",
    "\n",
    "\n",
    "print(\"X shape: \", X.shape, \"y shape: \", y.shape)"
   ]
  },
  {
   "cell_type": "code",
   "execution_count": 186,
   "metadata": {},
   "outputs": [
    {
     "data": {
      "text/html": [
       "<div>\n",
       "<style scoped>\n",
       "    .dataframe tbody tr th:only-of-type {\n",
       "        vertical-align: middle;\n",
       "    }\n",
       "\n",
       "    .dataframe tbody tr th {\n",
       "        vertical-align: top;\n",
       "    }\n",
       "\n",
       "    .dataframe thead th {\n",
       "        text-align: right;\n",
       "    }\n",
       "</style>\n",
       "<table border=\"1\" class=\"dataframe\">\n",
       "  <thead>\n",
       "    <tr style=\"text-align: right;\">\n",
       "      <th></th>\n",
       "      <th>systems</th>\n",
       "      <th>realm</th>\n",
       "      <th>populationTrend</th>\n",
       "      <th>phylumName</th>\n",
       "      <th>className</th>\n",
       "      <th>orderName</th>\n",
       "      <th>familyName</th>\n",
       "      <th>genusName</th>\n",
       "      <th>habitat_name</th>\n",
       "      <th>country_name</th>\n",
       "      <th>threat_name</th>\n",
       "      <th>stressName</th>\n",
       "      <th>usetrade_name</th>\n",
       "    </tr>\n",
       "  </thead>\n",
       "  <tbody>\n",
       "    <tr>\n",
       "      <th>0</th>\n",
       "      <td>-0.232591</td>\n",
       "      <td>-0.633392</td>\n",
       "      <td>-1.338512</td>\n",
       "      <td>-0.069218</td>\n",
       "      <td>-1.175479</td>\n",
       "      <td>-1.119862</td>\n",
       "      <td>-1.062181</td>\n",
       "      <td>-1.152990</td>\n",
       "      <td>-0.763058</td>\n",
       "      <td>-1.362161</td>\n",
       "      <td>-0.891071</td>\n",
       "      <td>-0.364673</td>\n",
       "      <td>0.273760</td>\n",
       "    </tr>\n",
       "    <tr>\n",
       "      <th>1</th>\n",
       "      <td>-0.232591</td>\n",
       "      <td>-0.568491</td>\n",
       "      <td>-1.338512</td>\n",
       "      <td>-0.069218</td>\n",
       "      <td>-0.250198</td>\n",
       "      <td>-1.059818</td>\n",
       "      <td>-1.050009</td>\n",
       "      <td>-1.152376</td>\n",
       "      <td>-0.697514</td>\n",
       "      <td>-1.348903</td>\n",
       "      <td>-0.840980</td>\n",
       "      <td>-0.330107</td>\n",
       "      <td>0.778558</td>\n",
       "    </tr>\n",
       "    <tr>\n",
       "      <th>2</th>\n",
       "      <td>-0.232591</td>\n",
       "      <td>-0.503590</td>\n",
       "      <td>-0.061089</td>\n",
       "      <td>-0.069218</td>\n",
       "      <td>-0.250198</td>\n",
       "      <td>-1.059818</td>\n",
       "      <td>-1.050009</td>\n",
       "      <td>-1.151762</td>\n",
       "      <td>-0.697514</td>\n",
       "      <td>-1.335644</td>\n",
       "      <td>-0.740799</td>\n",
       "      <td>-0.260977</td>\n",
       "      <td>0.778558</td>\n",
       "    </tr>\n",
       "    <tr>\n",
       "      <th>3</th>\n",
       "      <td>-0.232591</td>\n",
       "      <td>-0.503590</td>\n",
       "      <td>-1.338512</td>\n",
       "      <td>-0.069218</td>\n",
       "      <td>-0.250198</td>\n",
       "      <td>-1.059818</td>\n",
       "      <td>-1.050009</td>\n",
       "      <td>-1.151149</td>\n",
       "      <td>-0.631970</td>\n",
       "      <td>-1.322386</td>\n",
       "      <td>-0.590526</td>\n",
       "      <td>-0.191846</td>\n",
       "      <td>-0.483438</td>\n",
       "    </tr>\n",
       "    <tr>\n",
       "      <th>4</th>\n",
       "      <td>-0.232591</td>\n",
       "      <td>-0.568491</td>\n",
       "      <td>-1.338512</td>\n",
       "      <td>-0.069218</td>\n",
       "      <td>-0.250198</td>\n",
       "      <td>-1.059818</td>\n",
       "      <td>-1.050009</td>\n",
       "      <td>-1.150535</td>\n",
       "      <td>-0.566427</td>\n",
       "      <td>-1.348903</td>\n",
       "      <td>-0.790889</td>\n",
       "      <td>-0.191846</td>\n",
       "      <td>0.778558</td>\n",
       "    </tr>\n",
       "  </tbody>\n",
       "</table>\n",
       "</div>"
      ],
      "text/plain": [
       "    systems     realm  populationTrend  phylumName  className  orderName  \\\n",
       "0 -0.232591 -0.633392        -1.338512   -0.069218  -1.175479  -1.119862   \n",
       "1 -0.232591 -0.568491        -1.338512   -0.069218  -0.250198  -1.059818   \n",
       "2 -0.232591 -0.503590        -0.061089   -0.069218  -0.250198  -1.059818   \n",
       "3 -0.232591 -0.503590        -1.338512   -0.069218  -0.250198  -1.059818   \n",
       "4 -0.232591 -0.568491        -1.338512   -0.069218  -0.250198  -1.059818   \n",
       "\n",
       "   familyName  genusName  habitat_name  country_name  threat_name  stressName  \\\n",
       "0   -1.062181  -1.152990     -0.763058     -1.362161    -0.891071   -0.364673   \n",
       "1   -1.050009  -1.152376     -0.697514     -1.348903    -0.840980   -0.330107   \n",
       "2   -1.050009  -1.151762     -0.697514     -1.335644    -0.740799   -0.260977   \n",
       "3   -1.050009  -1.151149     -0.631970     -1.322386    -0.590526   -0.191846   \n",
       "4   -1.050009  -1.150535     -0.566427     -1.348903    -0.790889   -0.191846   \n",
       "\n",
       "   usetrade_name  \n",
       "0       0.273760  \n",
       "1       0.778558  \n",
       "2       0.778558  \n",
       "3      -0.483438  \n",
       "4       0.778558  "
      ]
     },
     "execution_count": 186,
     "metadata": {},
     "output_type": "execute_result"
    }
   ],
   "source": [
    "X=(X-X.mean())/X.std()\n",
    "#X=(X-X.min())/(X.max()-X.min())\n",
    "X.head()"
   ]
  },
  {
   "cell_type": "code",
   "execution_count": 187,
   "metadata": {},
   "outputs": [
    {
     "data": {
      "text/html": [
       "<div>\n",
       "<style scoped>\n",
       "    .dataframe tbody tr th:only-of-type {\n",
       "        vertical-align: middle;\n",
       "    }\n",
       "\n",
       "    .dataframe tbody tr th {\n",
       "        vertical-align: top;\n",
       "    }\n",
       "\n",
       "    .dataframe thead th {\n",
       "        text-align: right;\n",
       "    }\n",
       "</style>\n",
       "<table border=\"1\" class=\"dataframe\">\n",
       "  <thead>\n",
       "    <tr style=\"text-align: right;\">\n",
       "      <th></th>\n",
       "      <th>redlistCategory</th>\n",
       "    </tr>\n",
       "  </thead>\n",
       "  <tbody>\n",
       "    <tr>\n",
       "      <th>0</th>\n",
       "      <td>3</td>\n",
       "    </tr>\n",
       "    <tr>\n",
       "      <th>1</th>\n",
       "      <td>3</td>\n",
       "    </tr>\n",
       "    <tr>\n",
       "      <th>2</th>\n",
       "      <td>3</td>\n",
       "    </tr>\n",
       "    <tr>\n",
       "      <th>3</th>\n",
       "      <td>4</td>\n",
       "    </tr>\n",
       "    <tr>\n",
       "      <th>4</th>\n",
       "      <td>3</td>\n",
       "    </tr>\n",
       "  </tbody>\n",
       "</table>\n",
       "</div>"
      ],
      "text/plain": [
       "   redlistCategory\n",
       "0                3\n",
       "1                3\n",
       "2                3\n",
       "3                4\n",
       "4                3"
      ]
     },
     "execution_count": 187,
     "metadata": {},
     "output_type": "execute_result"
    }
   ],
   "source": [
    "y.head()"
   ]
  },
  {
   "cell_type": "code",
   "execution_count": 188,
   "metadata": {},
   "outputs": [],
   "source": [
    "X_train, X_test, y_train, y_test = train_test_split(X,y,test_size=0.33,random_state=42)"
   ]
  },
  {
   "cell_type": "code",
   "execution_count": 189,
   "metadata": {},
   "outputs": [
    {
     "data": {
      "text/html": [
       "<div>\n",
       "<style scoped>\n",
       "    .dataframe tbody tr th:only-of-type {\n",
       "        vertical-align: middle;\n",
       "    }\n",
       "\n",
       "    .dataframe tbody tr th {\n",
       "        vertical-align: top;\n",
       "    }\n",
       "\n",
       "    .dataframe thead th {\n",
       "        text-align: right;\n",
       "    }\n",
       "</style>\n",
       "<table border=\"1\" class=\"dataframe\">\n",
       "  <thead>\n",
       "    <tr style=\"text-align: right;\">\n",
       "      <th></th>\n",
       "      <th>redlistCategory</th>\n",
       "    </tr>\n",
       "  </thead>\n",
       "  <tbody>\n",
       "    <tr>\n",
       "      <th>22425</th>\n",
       "      <td>0</td>\n",
       "    </tr>\n",
       "    <tr>\n",
       "      <th>8821</th>\n",
       "      <td>0</td>\n",
       "    </tr>\n",
       "    <tr>\n",
       "      <th>7625</th>\n",
       "      <td>2</td>\n",
       "    </tr>\n",
       "    <tr>\n",
       "      <th>35960</th>\n",
       "      <td>4</td>\n",
       "    </tr>\n",
       "    <tr>\n",
       "      <th>46618</th>\n",
       "      <td>0</td>\n",
       "    </tr>\n",
       "  </tbody>\n",
       "</table>\n",
       "</div>"
      ],
      "text/plain": [
       "       redlistCategory\n",
       "22425                0\n",
       "8821                 0\n",
       "7625                 2\n",
       "35960                4\n",
       "46618                0"
      ]
     },
     "execution_count": 189,
     "metadata": {},
     "output_type": "execute_result"
    }
   ],
   "source": [
    "y_test.head()"
   ]
  },
  {
   "cell_type": "code",
   "execution_count": 190,
   "metadata": {},
   "outputs": [
    {
     "name": "stdout",
     "output_type": "stream",
     "text": [
      "Epoch 1/30\n",
      "1124/1124 [==============================] - 4s 3ms/step - loss: 1.0963 - accuracy: 0.5694 - val_loss: 1.0506 - val_accuracy: 0.5737 - lr: 0.0010\n",
      "Epoch 2/30\n",
      "1124/1124 [==============================] - 2s 2ms/step - loss: 1.0247 - accuracy: 0.5895 - val_loss: 1.0291 - val_accuracy: 0.5828 - lr: 0.0011\n",
      "Epoch 3/30\n",
      "1124/1124 [==============================] - 2s 2ms/step - loss: 1.0083 - accuracy: 0.5969 - val_loss: 1.0124 - val_accuracy: 0.5934 - lr: 0.0013\n",
      "Epoch 4/30\n",
      "1124/1124 [==============================] - 3s 3ms/step - loss: 0.9988 - accuracy: 0.6021 - val_loss: 1.0054 - val_accuracy: 0.6007 - lr: 0.0014\n",
      "Epoch 5/30\n",
      "1124/1124 [==============================] - 3s 2ms/step - loss: 0.9937 - accuracy: 0.6024 - val_loss: 1.0054 - val_accuracy: 0.5965 - lr: 0.0016\n",
      "Epoch 6/30\n",
      "1124/1124 [==============================] - 3s 2ms/step - loss: 0.9905 - accuracy: 0.6064 - val_loss: 0.9983 - val_accuracy: 0.6008 - lr: 0.0018\n",
      "Epoch 7/30\n",
      "1124/1124 [==============================] - 3s 2ms/step - loss: 0.9884 - accuracy: 0.6056 - val_loss: 0.9975 - val_accuracy: 0.6013 - lr: 0.0020\n",
      "Epoch 8/30\n",
      "1124/1124 [==============================] - 2s 2ms/step - loss: 0.9857 - accuracy: 0.6069 - val_loss: 0.9929 - val_accuracy: 0.6025 - lr: 0.0022\n",
      "Epoch 9/30\n",
      "1124/1124 [==============================] - 2s 2ms/step - loss: 0.9834 - accuracy: 0.6076 - val_loss: 1.0083 - val_accuracy: 0.5899 - lr: 0.0025\n",
      "Epoch 10/30\n",
      "1124/1124 [==============================] - 3s 2ms/step - loss: 0.9831 - accuracy: 0.6067 - val_loss: 0.9984 - val_accuracy: 0.6018 - lr: 0.0028\n",
      "Epoch 11/30\n",
      "1124/1124 [==============================] - 3s 3ms/step - loss: 0.9825 - accuracy: 0.6061 - val_loss: 0.9909 - val_accuracy: 0.6006 - lr: 0.0032\n",
      "Epoch 12/30\n",
      "1124/1124 [==============================] - 3s 2ms/step - loss: 0.9833 - accuracy: 0.6048 - val_loss: 1.0041 - val_accuracy: 0.6033 - lr: 0.0035\n",
      "Epoch 13/30\n",
      "1124/1124 [==============================] - 3s 2ms/step - loss: 0.9833 - accuracy: 0.6068 - val_loss: 0.9931 - val_accuracy: 0.5979 - lr: 0.0040\n",
      "Epoch 14/30\n",
      "1124/1124 [==============================] - 3s 2ms/step - loss: 0.9847 - accuracy: 0.6047 - val_loss: 1.0002 - val_accuracy: 0.5991 - lr: 0.0045\n",
      "Epoch 15/30\n",
      "1124/1124 [==============================] - 3s 3ms/step - loss: 0.9866 - accuracy: 0.6056 - val_loss: 1.0140 - val_accuracy: 0.5994 - lr: 0.0050\n",
      "Epoch 16/30\n",
      "1124/1124 [==============================] - 3s 3ms/step - loss: 0.9857 - accuracy: 0.6070 - val_loss: 1.0065 - val_accuracy: 0.5952 - lr: 0.0056\n",
      "Epoch 17/30\n",
      "1124/1124 [==============================] - 3s 3ms/step - loss: 0.9905 - accuracy: 0.6034 - val_loss: 1.0070 - val_accuracy: 0.6009 - lr: 0.0063\n",
      "Epoch 18/30\n",
      "1124/1124 [==============================] - 3s 2ms/step - loss: 0.9953 - accuracy: 0.6014 - val_loss: 1.0062 - val_accuracy: 0.5974 - lr: 0.0071\n",
      "Epoch 19/30\n",
      "1124/1124 [==============================] - 3s 2ms/step - loss: 0.9981 - accuracy: 0.6016 - val_loss: 1.0114 - val_accuracy: 0.5903 - lr: 0.0079\n",
      "Epoch 20/30\n",
      "1124/1124 [==============================] - 3s 3ms/step - loss: 1.0047 - accuracy: 0.5984 - val_loss: 1.0153 - val_accuracy: 0.5951 - lr: 0.0089\n",
      "Epoch 21/30\n",
      "1124/1124 [==============================] - 3s 3ms/step - loss: 1.0058 - accuracy: 0.5955 - val_loss: 1.0171 - val_accuracy: 0.5944 - lr: 0.0100\n",
      "Epoch 22/30\n",
      "1124/1124 [==============================] - 3s 3ms/step - loss: 1.0088 - accuracy: 0.5978 - val_loss: 1.0148 - val_accuracy: 0.5915 - lr: 0.0112\n",
      "Epoch 23/30\n",
      "1124/1124 [==============================] - 3s 2ms/step - loss: 1.0126 - accuracy: 0.5971 - val_loss: 1.0288 - val_accuracy: 0.5872 - lr: 0.0126\n",
      "Epoch 24/30\n",
      "1124/1124 [==============================] - 2s 2ms/step - loss: 1.0192 - accuracy: 0.5900 - val_loss: 1.0258 - val_accuracy: 0.5850 - lr: 0.0141\n",
      "Epoch 25/30\n",
      "1124/1124 [==============================] - 3s 3ms/step - loss: 1.0271 - accuracy: 0.5881 - val_loss: 1.0291 - val_accuracy: 0.5834 - lr: 0.0158\n",
      "Epoch 26/30\n",
      "1124/1124 [==============================] - 3s 2ms/step - loss: 1.0298 - accuracy: 0.5800 - val_loss: 1.0309 - val_accuracy: 0.5912 - lr: 0.0178\n",
      "Epoch 27/30\n",
      "1124/1124 [==============================] - 2s 2ms/step - loss: 1.0438 - accuracy: 0.5757 - val_loss: 1.0555 - val_accuracy: 0.5772 - lr: 0.0200\n",
      "Epoch 28/30\n",
      "1124/1124 [==============================] - 2s 2ms/step - loss: 1.0607 - accuracy: 0.5671 - val_loss: 1.0530 - val_accuracy: 0.5633 - lr: 0.0224\n",
      "Epoch 29/30\n",
      "1124/1124 [==============================] - 2s 2ms/step - loss: 1.0880 - accuracy: 0.5394 - val_loss: 1.1361 - val_accuracy: 0.5513 - lr: 0.0251\n",
      "Epoch 30/30\n",
      "1124/1124 [==============================] - 2s 2ms/step - loss: 1.0851 - accuracy: 0.5451 - val_loss: 1.0618 - val_accuracy: 0.5712 - lr: 0.0282\n"
     ]
    }
   ],
   "source": [
    "#set random seed\n",
    "tf.random.set_seed(42)\n",
    "#create the model\n",
    "model_12=tf.keras.Sequential([\n",
    "    tf.keras.layers.Dense(13, activation=\"relu\"),\n",
    "    tf.keras.layers.Dense(64, activation=\"relu\"),\n",
    "    tf.keras.layers.Dense(64,activation=\"relu\"),\n",
    "    tf.keras.layers.Dense(40,activation=\"relu\"),\n",
    "    tf.keras.layers.Dense(20,activation=\"relu\"),\n",
    "    tf.keras.layers.Dense(10,activation=\"relu\"),\n",
    "    tf.keras.layers.Dense(7,activation=\"softmax\")\n",
    "])\n",
    "#compile the model\n",
    "model_12.compile(\n",
    "   #loss='categorical_crossentropy',\n",
    "   loss=tf.keras.losses.SparseCategoricalCrossentropy(),\n",
    "   optimizer=tf.keras.optimizers.Adam(),\n",
    "   metrics=\"accuracy\")\n",
    "#create a learning rate callback\n",
    "lr_scheduler = tf.keras.callbacks.LearningRateScheduler(lambda epoch : 1e-3 *10**(epoch/20) )\n",
    "num_epochs = 15\n",
    "#fit the model\n",
    "fit_lr_history =model_12.fit(\n",
    "   X_train,\n",
    "   y_train,\n",
    "   epochs=num_epochs,\n",
    "   callbacks=[lr_scheduler],\n",
    "   validation_data=(X_test,y_test),\n",
    "   verbose=1)"
   ]
  },
  {
   "cell_type": "code",
   "execution_count": 191,
   "metadata": {},
   "outputs": [
    {
     "name": "stdout",
     "output_type": "stream",
     "text": [
      "554/554 [==============================] - 1s 1ms/step - loss: 1.0618 - accuracy: 0.5712\n"
     ]
    }
   ],
   "source": [
    "a = model_12.evaluate(X_test,y_test)"
   ]
  },
  {
   "cell_type": "code",
   "execution_count": 192,
   "metadata": {},
   "outputs": [
    {
     "name": "stdout",
     "output_type": "stream",
     "text": [
      "554/554 [==============================] - 1s 1ms/step\n"
     ]
    }
   ],
   "source": [
    "y_pred = model_12.predict(X_test)\n",
    "y_pred = [np.argmax(x) for x in y_pred]\n"
   ]
  },
  {
   "cell_type": "code",
   "execution_count": 193,
   "metadata": {},
   "outputs": [
    {
     "data": {
      "image/png": "[encoded data removed]",
      "text/plain": [
       "<Figure size 432x288 with 1 Axes>"
      ]
     },
     "metadata": {
      "needs_background": "light"
     },
     "output_type": "display_data"
    }
   ],
   "source": [
    "plt.plot(fit_lr_history.history['accuracy'])\n",
    "plt.plot(fit_lr_history.history['val_accuracy'])\n",
    "plt.title('model accuracy')\n",
    "plt.ylabel('accuracy')\n",
    "plt.xlabel('epoch')\n",
    "plt.legend(['train', 'test'], loc='upper left')\n",
    "plt.show()"
   ]
  },
  {
   "cell_type": "code",
   "execution_count": 194,
   "metadata": {},
   "outputs": [
    {
     "data": {
      "text/plain": [
       "Text(0.5, 1.0, 'Finding the ideal Learning Rate')"
      ]
     },
     "execution_count": 194,
     "metadata": {},
     "output_type": "execute_result"
    },
    {
     "data": {
      "image/png": "[encoded data removed]",
      "text/plain": [
       "<Figure size 432x288 with 1 Axes>"
      ]
     },
     "metadata": {
      "needs_background": "light"
     },
     "output_type": "display_data"
    }
   ],
   "source": [
    "import matplotlib.pyplot as plt\n",
    "\n",
    "lrs =1e-3 *(10**(tf.range(num_epochs)/20))\n",
    "plt.semilogx(lrs,fit_lr_history.history[\"loss\"])\n",
    "plt.xlabel(\"Learning Rate\")\n",
    "plt.ylabel(\"Loss\")\n",
    "plt.title(\"Finding the ideal Learning Rate\")"
   ]
  },
  {
   "cell_type": "code",
   "execution_count": 195,
   "metadata": {},
   "outputs": [
    {
     "name": "stdout",
     "output_type": "stream",
     "text": [
      "[[7096    0  528 1130    0    0    0]\n",
      " [ 335    0  224  611    0    0    0]\n",
      " [ 596    0  674 1665    0    0    0]\n",
      " [ 316    0  473 2345    0    0    0]\n",
      " [ 167    0  256 1231    0    0    0]\n",
      " [   5    0    2    5    0    0    0]\n",
      " [  22    0    9   17    0    0    0]]\n"
     ]
    },
    {
     "data": {
      "image/png": "[encoded data removed]",
      "text/plain": [
       "<Figure size 432x288 with 2 Axes>"
      ]
     },
     "metadata": {
      "needs_background": "light"
     },
     "output_type": "display_data"
    }
   ],
   "source": [
    "from sklearn.metrics import confusion_matrix\n",
    "#Generate the confusion matrix\n",
    "cf_matrix = confusion_matrix(y_test, y_pred)\n",
    "\n",
    "print(cf_matrix)\n",
    "#y_pred\n",
    "import seaborn as sns\n",
    "\n",
    "ax = sns.heatmap(cf_matrix, annot=True, cmap='Blues')\n",
    "\n",
    "ax.set_title('Seaborn Confusion Matrix with labels\\n\\n')\n",
    "ax.set_xlabel('\\nPredicted Values')\n",
    "ax.set_ylabel('Actual Values ')\n",
    "\n",
    "## Ticket labels - List must be in alphabetical order\n",
    "#ax.xaxis.set_ticklabels(['False','True'])\n",
    "#ax.yaxis.set_ticklabels(['False','True'])\n",
    "\n",
    "## Display the visualization of the Confusion Matrix.\n",
    "plt.show()"
   ]
  },
  {
   "cell_type": "code",
   "execution_count": 196,
   "metadata": {},
   "outputs": [
    {
     "data": {
      "image/png": "[encoded data removed]",
      "text/plain": [
       "<IPython.core.display.Image object>"
      ]
     },
     "execution_count": 196,
     "metadata": {},
     "output_type": "execute_result"
    }
   ],
   "source": [
    "from tensorflow.keras.utils import plot_model\n",
    "#see the inputs and outputs\n",
    "plot_model(model_12,show_shapes=True)"
   ]
  }
 ],
 "metadata": {
  "interpreter": {
   "hash": "26de051ba29f2982a8de78e945f0abaf191376122a1563185a90213a26c5da77"
  },
  "kernelspec": {
   "display_name": "Python 3.10.4 64-bit",
   "language": "python",
   "name": "python3"
  },
  "language_info": {
   "codemirror_mode": {
    "name": "ipython",
    "version": 3
   },
   "file_extension": ".py",
   "mimetype": "text/x-python",
   "name": "python",
   "nbconvert_exporter": "python",
   "pygments_lexer": "ipython3",
   "version": "3.10.4"
  },
  "orig_nbformat": 4
 },
 "nbformat": 4,
 "nbformat_minor": 2
}
