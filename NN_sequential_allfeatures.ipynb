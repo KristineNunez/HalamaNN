{
 "cells": [
  {
   "cell_type": "code",
   "execution_count": 11,
   "metadata": {},
   "outputs": [],
   "source": [
    "import tensorflow as tf\n",
    "import pandas as pd\n",
    "import numpy as np\n",
    "from sklearn.model_selection import train_test_split\n",
    "from sklearn import preprocessing\n",
    "import matplotlib.pyplot as plt"
   ]
  },
  {
   "cell_type": "code",
   "execution_count": 2,
   "metadata": {},
   "outputs": [
    {
     "name": "stdout",
     "output_type": "stream",
     "text": [
      "X shape:  (53657, 13) y shape:  (53657, 1)\n"
     ]
    }
   ],
   "source": [
    "X = pd.read_csv('X_nothotencoded_preprocessed_fillna.csv', index_col=False)\n",
    "X = X.drop(columns=['internalTaxonId'])\n",
    "y = pd.read_csv('y_nothotencoded_preprocessed_fillna.csv', index_col=False)\n",
    "y = y[[\"redlistCategory\"]]\n",
    "\n",
    "\n",
    "print(\"X shape: \", X.shape, \"y shape: \", y.shape)"
   ]
  },
  {
   "cell_type": "code",
   "execution_count": 3,
   "metadata": {},
   "outputs": [
    {
     "data": {
      "text/html": [
       "<div>\n",
       "<style scoped>\n",
       "    .dataframe tbody tr th:only-of-type {\n",
       "        vertical-align: middle;\n",
       "    }\n",
       "\n",
       "    .dataframe tbody tr th {\n",
       "        vertical-align: top;\n",
       "    }\n",
       "\n",
       "    .dataframe thead th {\n",
       "        text-align: right;\n",
       "    }\n",
       "</style>\n",
       "<table border=\"1\" class=\"dataframe\">\n",
       "  <thead>\n",
       "    <tr style=\"text-align: right;\">\n",
       "      <th></th>\n",
       "      <th>systems</th>\n",
       "      <th>realm</th>\n",
       "      <th>populationTrend</th>\n",
       "      <th>phylumName</th>\n",
       "      <th>className</th>\n",
       "      <th>orderName</th>\n",
       "      <th>familyName</th>\n",
       "      <th>genusName</th>\n",
       "      <th>habitat_name</th>\n",
       "      <th>country_name</th>\n",
       "      <th>threat_name</th>\n",
       "      <th>stressName</th>\n",
       "      <th>usetrade_name</th>\n",
       "    </tr>\n",
       "  </thead>\n",
       "  <tbody>\n",
       "    <tr>\n",
       "      <th>0</th>\n",
       "      <td>-0.232591</td>\n",
       "      <td>-0.633392</td>\n",
       "      <td>-1.338512</td>\n",
       "      <td>-0.069218</td>\n",
       "      <td>-1.175479</td>\n",
       "      <td>-1.119862</td>\n",
       "      <td>-1.062181</td>\n",
       "      <td>-1.152990</td>\n",
       "      <td>-0.763058</td>\n",
       "      <td>-1.362161</td>\n",
       "      <td>-0.891071</td>\n",
       "      <td>-0.364673</td>\n",
       "      <td>0.273760</td>\n",
       "    </tr>\n",
       "    <tr>\n",
       "      <th>1</th>\n",
       "      <td>-0.232591</td>\n",
       "      <td>-0.568491</td>\n",
       "      <td>-1.338512</td>\n",
       "      <td>-0.069218</td>\n",
       "      <td>-0.250198</td>\n",
       "      <td>-1.059818</td>\n",
       "      <td>-1.050009</td>\n",
       "      <td>-1.152376</td>\n",
       "      <td>-0.697514</td>\n",
       "      <td>-1.348903</td>\n",
       "      <td>-0.840980</td>\n",
       "      <td>-0.330107</td>\n",
       "      <td>0.778558</td>\n",
       "    </tr>\n",
       "    <tr>\n",
       "      <th>2</th>\n",
       "      <td>-0.232591</td>\n",
       "      <td>-0.503590</td>\n",
       "      <td>-0.061089</td>\n",
       "      <td>-0.069218</td>\n",
       "      <td>-0.250198</td>\n",
       "      <td>-1.059818</td>\n",
       "      <td>-1.050009</td>\n",
       "      <td>-1.151762</td>\n",
       "      <td>-0.697514</td>\n",
       "      <td>-1.335644</td>\n",
       "      <td>-0.740799</td>\n",
       "      <td>-0.260977</td>\n",
       "      <td>0.778558</td>\n",
       "    </tr>\n",
       "    <tr>\n",
       "      <th>3</th>\n",
       "      <td>-0.232591</td>\n",
       "      <td>-0.503590</td>\n",
       "      <td>-1.338512</td>\n",
       "      <td>-0.069218</td>\n",
       "      <td>-0.250198</td>\n",
       "      <td>-1.059818</td>\n",
       "      <td>-1.050009</td>\n",
       "      <td>-1.151149</td>\n",
       "      <td>-0.631970</td>\n",
       "      <td>-1.322386</td>\n",
       "      <td>-0.590526</td>\n",
       "      <td>-0.191846</td>\n",
       "      <td>-0.483438</td>\n",
       "    </tr>\n",
       "    <tr>\n",
       "      <th>4</th>\n",
       "      <td>-0.232591</td>\n",
       "      <td>-0.568491</td>\n",
       "      <td>-1.338512</td>\n",
       "      <td>-0.069218</td>\n",
       "      <td>-0.250198</td>\n",
       "      <td>-1.059818</td>\n",
       "      <td>-1.050009</td>\n",
       "      <td>-1.150535</td>\n",
       "      <td>-0.566427</td>\n",
       "      <td>-1.348903</td>\n",
       "      <td>-0.790889</td>\n",
       "      <td>-0.191846</td>\n",
       "      <td>0.778558</td>\n",
       "    </tr>\n",
       "  </tbody>\n",
       "</table>\n",
       "</div>"
      ],
      "text/plain": [
       "    systems     realm  populationTrend  phylumName  className  orderName  \\\n",
       "0 -0.232591 -0.633392        -1.338512   -0.069218  -1.175479  -1.119862   \n",
       "1 -0.232591 -0.568491        -1.338512   -0.069218  -0.250198  -1.059818   \n",
       "2 -0.232591 -0.503590        -0.061089   -0.069218  -0.250198  -1.059818   \n",
       "3 -0.232591 -0.503590        -1.338512   -0.069218  -0.250198  -1.059818   \n",
       "4 -0.232591 -0.568491        -1.338512   -0.069218  -0.250198  -1.059818   \n",
       "\n",
       "   familyName  genusName  habitat_name  country_name  threat_name  stressName  \\\n",
       "0   -1.062181  -1.152990     -0.763058     -1.362161    -0.891071   -0.364673   \n",
       "1   -1.050009  -1.152376     -0.697514     -1.348903    -0.840980   -0.330107   \n",
       "2   -1.050009  -1.151762     -0.697514     -1.335644    -0.740799   -0.260977   \n",
       "3   -1.050009  -1.151149     -0.631970     -1.322386    -0.590526   -0.191846   \n",
       "4   -1.050009  -1.150535     -0.566427     -1.348903    -0.790889   -0.191846   \n",
       "\n",
       "   usetrade_name  \n",
       "0       0.273760  \n",
       "1       0.778558  \n",
       "2       0.778558  \n",
       "3      -0.483438  \n",
       "4       0.778558  "
      ]
     },
     "execution_count": 3,
     "metadata": {},
     "output_type": "execute_result"
    }
   ],
   "source": [
    "X=(X-X.mean())/X.std()\n",
    "#X=(X-X.min())/(X.max()-X.min())\n",
    "X.head()"
   ]
  },
  {
   "cell_type": "code",
   "execution_count": 4,
   "metadata": {},
   "outputs": [
    {
     "data": {
      "text/html": [
       "<div>\n",
       "<style scoped>\n",
       "    .dataframe tbody tr th:only-of-type {\n",
       "        vertical-align: middle;\n",
       "    }\n",
       "\n",
       "    .dataframe tbody tr th {\n",
       "        vertical-align: top;\n",
       "    }\n",
       "\n",
       "    .dataframe thead th {\n",
       "        text-align: right;\n",
       "    }\n",
       "</style>\n",
       "<table border=\"1\" class=\"dataframe\">\n",
       "  <thead>\n",
       "    <tr style=\"text-align: right;\">\n",
       "      <th></th>\n",
       "      <th>redlistCategory</th>\n",
       "    </tr>\n",
       "  </thead>\n",
       "  <tbody>\n",
       "    <tr>\n",
       "      <th>0</th>\n",
       "      <td>3</td>\n",
       "    </tr>\n",
       "    <tr>\n",
       "      <th>1</th>\n",
       "      <td>3</td>\n",
       "    </tr>\n",
       "    <tr>\n",
       "      <th>2</th>\n",
       "      <td>3</td>\n",
       "    </tr>\n",
       "    <tr>\n",
       "      <th>3</th>\n",
       "      <td>4</td>\n",
       "    </tr>\n",
       "    <tr>\n",
       "      <th>4</th>\n",
       "      <td>3</td>\n",
       "    </tr>\n",
       "  </tbody>\n",
       "</table>\n",
       "</div>"
      ],
      "text/plain": [
       "   redlistCategory\n",
       "0                3\n",
       "1                3\n",
       "2                3\n",
       "3                4\n",
       "4                3"
      ]
     },
     "execution_count": 4,
     "metadata": {},
     "output_type": "execute_result"
    }
   ],
   "source": [
    "y.head()"
   ]
  },
  {
   "cell_type": "code",
   "execution_count": 5,
   "metadata": {},
   "outputs": [],
   "source": [
    "X_train, X_test, y_train, y_test = train_test_split(X,y,test_size=0.33,random_state=42)"
   ]
  },
  {
   "cell_type": "code",
   "execution_count": 6,
   "metadata": {},
   "outputs": [
    {
     "data": {
      "text/html": [
       "<div>\n",
       "<style scoped>\n",
       "    .dataframe tbody tr th:only-of-type {\n",
       "        vertical-align: middle;\n",
       "    }\n",
       "\n",
       "    .dataframe tbody tr th {\n",
       "        vertical-align: top;\n",
       "    }\n",
       "\n",
       "    .dataframe thead th {\n",
       "        text-align: right;\n",
       "    }\n",
       "</style>\n",
       "<table border=\"1\" class=\"dataframe\">\n",
       "  <thead>\n",
       "    <tr style=\"text-align: right;\">\n",
       "      <th></th>\n",
       "      <th>redlistCategory</th>\n",
       "    </tr>\n",
       "  </thead>\n",
       "  <tbody>\n",
       "    <tr>\n",
       "      <th>22425</th>\n",
       "      <td>0</td>\n",
       "    </tr>\n",
       "    <tr>\n",
       "      <th>8821</th>\n",
       "      <td>0</td>\n",
       "    </tr>\n",
       "    <tr>\n",
       "      <th>7625</th>\n",
       "      <td>2</td>\n",
       "    </tr>\n",
       "    <tr>\n",
       "      <th>35960</th>\n",
       "      <td>4</td>\n",
       "    </tr>\n",
       "    <tr>\n",
       "      <th>46618</th>\n",
       "      <td>0</td>\n",
       "    </tr>\n",
       "  </tbody>\n",
       "</table>\n",
       "</div>"
      ],
      "text/plain": [
       "       redlistCategory\n",
       "22425                0\n",
       "8821                 0\n",
       "7625                 2\n",
       "35960                4\n",
       "46618                0"
      ]
     },
     "execution_count": 6,
     "metadata": {},
     "output_type": "execute_result"
    }
   ],
   "source": [
    "y_test.head()"
   ]
  },
  {
   "cell_type": "code",
   "execution_count": 7,
   "metadata": {},
   "outputs": [
    {
     "name": "stdout",
     "output_type": "stream",
     "text": [
      "Epoch 1/15\n",
      "1124/1124 [==============================] - 4s 3ms/step - loss: 1.1413 - accuracy: 0.5592 - val_loss: 1.0493 - val_accuracy: 0.5820 - lr: 0.0010\n",
      "Epoch 2/15\n",
      "1124/1124 [==============================] - 3s 3ms/step - loss: 1.0248 - accuracy: 0.5898 - val_loss: 1.0301 - val_accuracy: 0.5862 - lr: 0.0011\n",
      "Epoch 3/15\n",
      "1124/1124 [==============================] - 3s 3ms/step - loss: 1.0110 - accuracy: 0.5929 - val_loss: 1.0210 - val_accuracy: 0.5898 - lr: 0.0013\n",
      "Epoch 4/15\n",
      "1124/1124 [==============================] - 3s 3ms/step - loss: 1.0026 - accuracy: 0.5999 - val_loss: 1.0103 - val_accuracy: 0.5939 - lr: 0.0014\n",
      "Epoch 5/15\n",
      "1124/1124 [==============================] - 3s 2ms/step - loss: 0.9957 - accuracy: 0.6032 - val_loss: 1.0094 - val_accuracy: 0.5983 - lr: 0.0016\n",
      "Epoch 6/15\n",
      "1124/1124 [==============================] - 3s 2ms/step - loss: 0.9913 - accuracy: 0.6044 - val_loss: 1.0092 - val_accuracy: 0.5973 - lr: 0.0018\n",
      "Epoch 7/15\n",
      "1124/1124 [==============================] - 3s 3ms/step - loss: 0.9877 - accuracy: 0.6063 - val_loss: 0.9960 - val_accuracy: 0.6020 - lr: 0.0020\n",
      "Epoch 8/15\n",
      "1124/1124 [==============================] - 3s 3ms/step - loss: 0.9852 - accuracy: 0.6064 - val_loss: 0.9932 - val_accuracy: 0.6023 - lr: 0.0022\n",
      "Epoch 9/15\n",
      "1124/1124 [==============================] - 3s 2ms/step - loss: 0.9834 - accuracy: 0.6074 - val_loss: 1.0081 - val_accuracy: 0.5932 - lr: 0.0025\n",
      "Epoch 10/15\n",
      "1124/1124 [==============================] - 3s 2ms/step - loss: 0.9834 - accuracy: 0.6090 - val_loss: 0.9969 - val_accuracy: 0.6048 - lr: 0.0028\n",
      "Epoch 11/15\n",
      "1124/1124 [==============================] - 3s 2ms/step - loss: 0.9826 - accuracy: 0.6083 - val_loss: 0.9967 - val_accuracy: 0.6031 - lr: 0.0032\n",
      "Epoch 12/15\n",
      "1124/1124 [==============================] - 3s 3ms/step - loss: 0.9830 - accuracy: 0.6074 - val_loss: 1.0002 - val_accuracy: 0.6057 - lr: 0.0035\n",
      "Epoch 13/15\n",
      "1124/1124 [==============================] - 3s 2ms/step - loss: 0.9846 - accuracy: 0.6074 - val_loss: 0.9961 - val_accuracy: 0.6022 - lr: 0.0040\n",
      "Epoch 14/15\n",
      "1124/1124 [==============================] - 3s 3ms/step - loss: 0.9854 - accuracy: 0.6076 - val_loss: 0.9984 - val_accuracy: 0.6042 - lr: 0.0045\n",
      "Epoch 15/15\n",
      "1124/1124 [==============================] - 3s 2ms/step - loss: 0.9871 - accuracy: 0.6073 - val_loss: 1.0093 - val_accuracy: 0.6012 - lr: 0.0050\n"
     ]
    }
   ],
   "source": [
    "#set random seed\n",
    "tf.random.set_seed(42)\n",
    "#create the model\n",
    "model_12=tf.keras.Sequential([\n",
    "    tf.keras.layers.Dense(13, activation=\"relu\"),\n",
    "    tf.keras.layers.Dense(64, activation=\"relu\"),\n",
    "    tf.keras.layers.Dense(64,activation=\"relu\"),\n",
    "    tf.keras.layers.Dense(40,activation=\"relu\"),\n",
    "    tf.keras.layers.Dense(20,activation=\"relu\"),\n",
    "    tf.keras.layers.Dense(10,activation=\"relu\"),\n",
    "    tf.keras.layers.Dense(7,activation=\"softmax\")\n",
    "])\n",
    "#compile the model\n",
    "model_12.compile(\n",
    "   #loss='categorical_crossentropy',\n",
    "   loss=tf.keras.losses.SparseCategoricalCrossentropy(),\n",
    "   optimizer=tf.keras.optimizers.Adam(),\n",
    "   metrics=\"accuracy\")\n",
    "#create a learning rate callback\n",
    "lr_scheduler = tf.keras.callbacks.LearningRateScheduler(lambda epoch : 1e-3 *10**(epoch/20) )\n",
    "num_epochs = 15\n",
    "#fit the model\n",
    "fit_lr_history =model_12.fit(\n",
    "   X_train,\n",
    "   y_train,\n",
    "   epochs=num_epochs,\n",
    "   callbacks=[lr_scheduler],\n",
    "   validation_data=(X_test,y_test),\n",
    "   verbose=1)"
   ]
  },
  {
   "cell_type": "code",
   "execution_count": 8,
   "metadata": {},
   "outputs": [
    {
     "name": "stdout",
     "output_type": "stream",
     "text": [
      "554/554 [==============================] - 1s 1ms/step - loss: 1.0093 - accuracy: 0.6012\n"
     ]
    }
   ],
   "source": [
    "a = model_12.evaluate(X_test,y_test)"
   ]
  },
  {
   "cell_type": "code",
   "execution_count": 9,
   "metadata": {},
   "outputs": [
    {
     "name": "stdout",
     "output_type": "stream",
     "text": [
      "554/554 [==============================] - 1s 1ms/step\n"
     ]
    }
   ],
   "source": [
    "y_pred = model_12.predict(X_test)\n",
    "y_pred = [np.argmax(x) for x in y_pred]\n"
   ]
  },
  {
   "cell_type": "code",
   "execution_count": 12,
   "metadata": {},
   "outputs": [
    {
     "data": {
      "image/png": "[encoded data removed]",
      "text/plain": [
       "<Figure size 432x288 with 1 Axes>"
      ]
     },
     "metadata": {
      "needs_background": "light"
     },
     "output_type": "display_data"
    }
   ],
   "source": [
    "plt.plot(fit_lr_history.history['accuracy'])\n",
    "plt.plot(fit_lr_history.history['val_accuracy'])\n",
    "plt.title('model accuracy')\n",
    "plt.ylabel('accuracy')\n",
    "plt.xlabel('epoch')\n",
    "plt.legend(['train', 'test'], loc='upper left')\n",
    "plt.show()"
   ]
  },
  {
   "cell_type": "code",
   "execution_count": null,
   "metadata": {},
   "outputs": [
    {
     "data": {
      "text/plain": [
       "Text(0.5, 1.0, 'Finding the ideal Learning Rate')"
      ]
     },
     "execution_count": 194,
     "metadata": {},
     "output_type": "execute_result"
    },
    {
     "data": {
      "image/png": "[encoded data removed]",
      "text/plain": [
       "<Figure size 432x288 with 1 Axes>"
      ]
     },
     "metadata": {
      "needs_background": "light"
     },
     "output_type": "display_data"
    }
   ],
   "source": [
    "import matplotlib.pyplot as plt\n",
    "\n",
    "lrs =1e-3 *(10**(tf.range(num_epochs)/20))\n",
    "plt.semilogx(lrs,fit_lr_history.history[\"loss\"])\n",
    "plt.xlabel(\"Learning Rate\")\n",
    "plt.ylabel(\"Loss\")\n",
    "plt.title(\"Finding the ideal Learning Rate\")"
   ]
  },
  {
   "cell_type": "code",
   "execution_count": null,
   "metadata": {},
   "outputs": [
    {
     "name": "stdout",
     "output_type": "stream",
     "text": [
      "[[7096    0  528 1130    0    0    0]\n",
      " [ 335    0  224  611    0    0    0]\n",
      " [ 596    0  674 1665    0    0    0]\n",
      " [ 316    0  473 2345    0    0    0]\n",
      " [ 167    0  256 1231    0    0    0]\n",
      " [   5    0    2    5    0    0    0]\n",
      " [  22    0    9   17    0    0    0]]\n"
     ]
    },
    {
     "data": {
      "image/png": "[encoded data removed]",
      "text/plain": [
       "<Figure size 432x288 with 2 Axes>"
      ]
     },
     "metadata": {
      "needs_background": "light"
     },
     "output_type": "display_data"
    }
   ],
   "source": [
    "from sklearn.metrics import confusion_matrix\n",
    "#Generate the confusion matrix\n",
    "cf_matrix = confusion_matrix(y_test, y_pred)\n",
    "\n",
    "print(cf_matrix)\n",
    "#y_pred\n",
    "import seaborn as sns\n",
    "\n",
    "ax = sns.heatmap(cf_matrix, annot=True, cmap='Blues')\n",
    "\n",
    "ax.set_title('Seaborn Confusion Matrix with labels\\n\\n')\n",
    "ax.set_xlabel('\\nPredicted Values')\n",
    "ax.set_ylabel('Actual Values ')\n",
    "\n",
    "## Ticket labels - List must be in alphabetical order\n",
    "#ax.xaxis.set_ticklabels(['False','True'])\n",
    "#ax.yaxis.set_ticklabels(['False','True'])\n",
    "\n",
    "## Display the visualization of the Confusion Matrix.\n",
    "plt.show()"
   ]
  },
  {
   "cell_type": "code",
   "execution_count": null,
   "metadata": {},
   "outputs": [
    {
     "data": {
      "image/png": "[encoded data removed]",
      "text/plain": [
       "<IPython.core.display.Image object>"
      ]
     },
     "execution_count": 196,
     "metadata": {},
     "output_type": "execute_result"
    }
   ],
   "source": [
    "from tensorflow.keras.utils import plot_model\n",
    "#see the inputs and outputs\n",
    "plot_model(model_12,show_shapes=True)"
   ]
  }
 ],
 "metadata": {
  "interpreter": {
   "hash": "26de051ba29f2982a8de78e945f0abaf191376122a1563185a90213a26c5da77"
  },
  "kernelspec": {
   "display_name": "Python 3.10.4 64-bit",
   "language": "python",
   "name": "python3"
  },
  "language_info": {
   "codemirror_mode": {
    "name": "ipython",
    "version": 3
   },
   "file_extension": ".py",
   "mimetype": "text/x-python",
   "name": "python",
   "nbconvert_exporter": "python",
   "pygments_lexer": "ipython3",
   "version": "3.10.4"
  },
  "orig_nbformat": 4
 },
 "nbformat": 4,
 "nbformat_minor": 2
}
