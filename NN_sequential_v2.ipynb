{
 "cells": [
  {
   "cell_type": "markdown",
   "metadata": {},
   "source": [
    "# Imports"
   ]
  },
  {
   "cell_type": "code",
   "execution_count": 2,
   "metadata": {},
   "outputs": [],
   "source": [
    "import tensorflow as tf\n",
    "import pandas as pd\n",
    "import numpy as np\n",
    "from sklearn.model_selection import train_test_split\n",
    "from sklearn.metrics import confusion_matrix, classification_report\n",
    "import matplotlib.pyplot as plt\n",
    "import seaborn as sns\n",
    "from imblearn.over_sampling import SMOTEN"
   ]
  },
  {
   "cell_type": "code",
   "execution_count": 2,
   "metadata": {},
   "outputs": [],
   "source": [
    "X_train_nonsmote = pd.read_csv('xy_train_v2.csv', index_col=False)\n",
    "y_train_nonsmote = X_train_nonsmote[[\"redlistCategory\"]]\n",
    "X_train_nonsmote = X_train_nonsmote.drop(columns=['internalTaxonId', 'Unnamed: 0', \"redlistCategory\"])"
   ]
  },
  {
   "cell_type": "code",
   "execution_count": 3,
   "metadata": {},
   "outputs": [
    {
     "data": {
      "text/plain": [
       "1560"
      ]
     },
     "execution_count": 3,
     "metadata": {},
     "output_type": "execute_result"
    }
   ],
   "source": [
    "len(X_train_nonsmote.columns)"
   ]
  },
  {
   "cell_type": "markdown",
   "metadata": {},
   "source": [
    "# Build Neural Network\n",
    "Preprocessed Version 1 + Drop genusName"
   ]
  },
  {
   "cell_type": "code",
   "execution_count": 9,
   "metadata": {},
   "outputs": [
    {
     "name": "stdout",
     "output_type": "stream",
     "text": [
      "Epoch 1/14\n",
      "WARNING:tensorflow:Layer dense_6 is casting an input tensor from dtype float64 to the layer's dtype of float32, which is new behavior in TensorFlow 2.  The layer has dtype float32 because its dtype defaults to floatx.\n",
      "\n",
      "If you intended to run this layer in float32, you can safely ignore this warning. If in doubt, this warning is likely only an issue if you are porting a TensorFlow 1.X model to TensorFlow 2.\n",
      "\n",
      "To change all layers to have dtype float64 by default, call `tf.keras.backend.set_floatx('float64')`. To change just this layer, pass dtype='float64' to the layer constructor. If you are the author of this layer, you can disable autocasting by passing autocast=False to the base Layer constructor.\n",
      "\n",
      "1342/1342 [==============================] - 24s 18ms/step - loss: 0.9229 - accuracy: 0.6316 - val_loss: 0.8624 - val_accuracy: 0.6481\n",
      "Epoch 2/14\n",
      "1342/1342 [==============================] - 24s 18ms/step - loss: 0.7944 - accuracy: 0.6796 - val_loss: 0.8482 - val_accuracy: 0.6541\n",
      "Epoch 3/14\n",
      "1342/1342 [==============================] - 24s 18ms/step - loss: 0.7060 - accuracy: 0.7158 - val_loss: 0.8444 - val_accuracy: 0.6585\n",
      "Epoch 4/14\n",
      "1342/1342 [==============================] - 24s 18ms/step - loss: 0.6172 - accuracy: 0.7532 - val_loss: 0.8977 - val_accuracy: 0.6577\n",
      "Epoch 5/14\n",
      "1342/1342 [==============================] - 23s 17ms/step - loss: 0.5286 - accuracy: 0.7887 - val_loss: 1.0151 - val_accuracy: 0.6545\n",
      "Epoch 6/14\n",
      "1342/1342 [==============================] - 24s 18ms/step - loss: 0.4523 - accuracy: 0.8201 - val_loss: 1.0971 - val_accuracy: 0.6490\n",
      "Epoch 7/14\n",
      "1342/1342 [==============================] - 23s 17ms/step - loss: 0.3874 - accuracy: 0.8472 - val_loss: 1.2709 - val_accuracy: 0.6439\n",
      "Epoch 8/14\n",
      "1342/1342 [==============================] - 24s 18ms/step - loss: 0.3399 - accuracy: 0.8635 - val_loss: 1.3866 - val_accuracy: 0.6429\n",
      "Epoch 9/14\n",
      "1342/1342 [==============================] - 24s 18ms/step - loss: 0.3094 - accuracy: 0.8758 - val_loss: 1.5653 - val_accuracy: 0.6443\n",
      "Epoch 10/14\n",
      "1342/1342 [==============================] - 24s 18ms/step - loss: 0.2817 - accuracy: 0.8875 - val_loss: 1.5343 - val_accuracy: 0.6420\n",
      "Epoch 11/14\n",
      "1342/1342 [==============================] - 23s 17ms/step - loss: 0.2618 - accuracy: 0.8958 - val_loss: 1.7885 - val_accuracy: 0.6482\n",
      "Epoch 12/14\n",
      "1342/1342 [==============================] - 24s 18ms/step - loss: 0.2443 - accuracy: 0.9000 - val_loss: 1.8184 - val_accuracy: 0.6416\n",
      "Epoch 13/14\n",
      "1342/1342 [==============================] - 25s 19ms/step - loss: 0.2369 - accuracy: 0.9049 - val_loss: 1.8786 - val_accuracy: 0.6505\n",
      "Epoch 14/14\n",
      "1342/1342 [==============================] - 24s 18ms/step - loss: 0.2217 - accuracy: 0.9098 - val_loss: 2.0078 - val_accuracy: 0.6464\n"
     ]
    }
   ],
   "source": [
    "#set random seed\n",
    "tf.random.set_seed(42)\n",
    "#create the model\n",
    "nn_200=tf.keras.Sequential([\n",
    "    tf.keras.layers.Dense(len(X_train_nonsmote.columns), activation=\"relu\"),\n",
    "    tf.keras.layers.Dense(70,activation=\"relu\"),\n",
    "    tf.keras.layers.Dense(70,activation=\"relu\"),\n",
    "    tf.keras.layers.Dense(30,activation=\"relu\"),\n",
    "    tf.keras.layers.Dense(10,activation=\"relu\"),\n",
    "    tf.keras.layers.Dense(6,activation=\"softmax\")\n",
    "])\n",
    "#compile the model\n",
    "nn_200.compile(\n",
    "   #loss='categorical_crossentropy',\n",
    "   loss=tf.keras.losses.SparseCategoricalCrossentropy(),\n",
    "   optimizer=tf.keras.optimizers.Adam(),\n",
    "   metrics=\"accuracy\")\n",
    "#create a learning rate callback\n",
    "lr_scheduler = tf.keras.callbacks.LearningRateScheduler(lambda epoch : 1e-3 )\n",
    "#fit the model\n",
    "epoch_num = 14\n",
    "fit_lr_history =nn_200.fit(\n",
    "   X_train_nonsmote,\n",
    "   y_train_nonsmote,\n",
    "   epochs=epoch_num,\n",
    "   callbacks=[lr_scheduler],\n",
    "   validation_data=(X_test_nonsmote,y_test_nonsmote),\n",
    "   verbose=1)"
   ]
  },
  {
   "cell_type": "code",
   "execution_count": 10,
   "metadata": {},
   "outputs": [
    {
     "data": {
      "image/png": "[encoded data removed]",
      "text/plain": [
       "<Figure size 432x288 with 1 Axes>"
      ]
     },
     "metadata": {
      "needs_background": "light"
     },
     "output_type": "display_data"
    }
   ],
   "source": [
    "import matplotlib.pyplot as plt\n",
    "\n",
    "plt.plot(fit_lr_history.history['accuracy'])\n",
    "plt.plot(fit_lr_history.history['val_accuracy'])\n",
    "plt.title('model accuracy')\n",
    "plt.ylabel('accuracy')\n",
    "plt.xlabel('epoch')\n",
    "plt.legend(['train', 'test'], loc='upper left')\n",
    "plt.show()"
   ]
  },
  {
   "cell_type": "markdown",
   "metadata": {},
   "source": [
    "# Predict on non-SMOTE test set"
   ]
  },
  {
   "cell_type": "code",
   "execution_count": 5,
   "metadata": {},
   "outputs": [],
   "source": [
    "X_test_nonsmote = pd.read_csv('xy_test_v2.csv', index_col=False)\n",
    "y_test_nonsmote = X_test_nonsmote[[\"redlistCategory\"]]\n",
    "X_test_nonsmote = X_test_nonsmote.drop(columns=['internalTaxonId', 'Unnamed: 0', \"redlistCategory\"])"
   ]
  },
  {
   "cell_type": "code",
   "execution_count": 6,
   "metadata": {},
   "outputs": [],
   "source": [
    "y_pred_nonsmote = nn_200.predict(X_test_nonsmote)\n",
    "y_pred_nonsmote = [np.argmax(x) for x in y_pred_nonsmote]"
   ]
  },
  {
   "cell_type": "code",
   "execution_count": 7,
   "metadata": {},
   "outputs": [
    {
     "data": {
      "image/png": "[encoded data removed]",
      "text/plain": [
       "<Figure size 432x288 with 2 Axes>"
      ]
     },
     "metadata": {
      "needs_background": "light"
     },
     "output_type": "display_data"
    }
   ],
   "source": [
    "cf_matrix_nonsmote = confusion_matrix(y_test_nonsmote, y_pred_nonsmote)\n",
    "ax_nonsmote = sns.heatmap(cf_matrix_nonsmote, annot=True, cmap='Blues')\n",
    "\n",
    "ax_nonsmote.set_title('Seaborn Confusion Matrix with labels\\n\\n')\n",
    "ax_nonsmote.set_xlabel('\\nPredicted Values')\n",
    "ax_nonsmote.set_ylabel('Actual Values ')\n",
    "plt.show()"
   ]
  },
  {
   "cell_type": "code",
   "execution_count": 8,
   "metadata": {},
   "outputs": [
    {
     "name": "stdout",
     "output_type": "stream",
     "text": [
      "              precision    recall  f1-score   support\n",
      "\n",
      "           0       0.86      0.91      0.88      5326\n",
      "           1       0.24      0.17      0.20       706\n",
      "           2       0.42      0.48      0.45      1800\n",
      "           3       0.44      0.37      0.40      1889\n",
      "           4       0.42      0.40      0.41       971\n",
      "           5       0.71      0.30      0.42        40\n",
      "\n",
      "    accuracy                           0.65     10732\n",
      "   macro avg       0.51      0.44      0.46     10732\n",
      "weighted avg       0.63      0.65      0.64     10732\n",
      "\n"
     ]
    }
   ],
   "source": [
    "print(classification_report(y_test_nonsmote, y_pred_nonsmote, target_names=[str(i) for i in range(6)]))"
   ]
  },
  {
   "cell_type": "markdown",
   "metadata": {},
   "source": [
    "# Using Preprocessed Version 3\n",
    "Preprocessed Version 2 + Multiple Encoding for features with \"|\" (ex: x|y=1 -> x=1, y=1)"
   ]
  },
  {
   "cell_type": "code",
   "execution_count": 12,
   "metadata": {},
   "outputs": [],
   "source": [
    "X_train_nonsmote = pd.read_csv('xy_train_v3.csv', index_col=False)\n",
    "y_train_nonsmote = X_train_nonsmote[[\"redlistCategory\"]]\n",
    "X_train_nonsmote = X_train_nonsmote.drop(columns=['internalTaxonId', 'Unnamed: 0', \"redlistCategory\"])"
   ]
  },
  {
   "cell_type": "code",
   "execution_count": 13,
   "metadata": {},
   "outputs": [],
   "source": [
    "X_test_nonsmote = pd.read_csv('xy_test_v3.csv', index_col=False)\n",
    "y_test_nonsmote = X_test_nonsmote[[\"redlistCategory\"]]\n",
    "X_test_nonsmote = X_test_nonsmote.drop(columns=['internalTaxonId', 'Unnamed: 0', \"redlistCategory\"])"
   ]
  },
  {
   "cell_type": "code",
   "execution_count": 14,
   "metadata": {},
   "outputs": [
    {
     "name": "stdout",
     "output_type": "stream",
     "text": [
      "Epoch 1/14\n",
      "WARNING:tensorflow:Layer dense_15 is casting an input tensor from dtype float64 to the layer's dtype of float32, which is new behavior in TensorFlow 2.  The layer has dtype float32 because its dtype defaults to floatx.\n",
      "\n",
      "If you intended to run this layer in float32, you can safely ignore this warning. If in doubt, this warning is likely only an issue if you are porting a TensorFlow 1.X model to TensorFlow 2.\n",
      "\n",
      "To change all layers to have dtype float64 by default, call `tf.keras.backend.set_floatx('float64')`. To change just this layer, pass dtype='float64' to the layer constructor. If you are the author of this layer, you can disable autocasting by passing autocast=False to the base Layer constructor.\n",
      "\n",
      "1342/1342 [==============================] - 12s 9ms/step - loss: 0.9202 - accuracy: 0.6302 - val_loss: 0.8609 - val_accuracy: 0.6477\n",
      "Epoch 2/14\n",
      "1342/1342 [==============================] - 12s 9ms/step - loss: 0.8051 - accuracy: 0.6732 - val_loss: 0.8595 - val_accuracy: 0.6531\n",
      "Epoch 3/14\n",
      "1342/1342 [==============================] - 12s 9ms/step - loss: 0.7304 - accuracy: 0.7041 - val_loss: 0.8416 - val_accuracy: 0.6564\n",
      "Epoch 4/14\n",
      "1342/1342 [==============================] - 12s 9ms/step - loss: 0.6586 - accuracy: 0.7351 - val_loss: 0.8747 - val_accuracy: 0.6592\n",
      "Epoch 5/14\n",
      "1342/1342 [==============================] - 12s 9ms/step - loss: 0.5837 - accuracy: 0.7647 - val_loss: 0.9371 - val_accuracy: 0.6564\n",
      "Epoch 6/14\n",
      "1342/1342 [==============================] - 12s 9ms/step - loss: 0.5115 - accuracy: 0.7957 - val_loss: 1.0226 - val_accuracy: 0.6531\n",
      "Epoch 7/14\n",
      "1342/1342 [==============================] - 12s 9ms/step - loss: 0.4475 - accuracy: 0.8223 - val_loss: 1.1467 - val_accuracy: 0.6463\n",
      "Epoch 8/14\n",
      "1342/1342 [==============================] - 12s 9ms/step - loss: 0.3976 - accuracy: 0.8415 - val_loss: 1.2227 - val_accuracy: 0.6434\n",
      "Epoch 9/14\n",
      "1342/1342 [==============================] - 12s 9ms/step - loss: 0.3584 - accuracy: 0.8582 - val_loss: 1.3656 - val_accuracy: 0.6467\n",
      "Epoch 10/14\n",
      "1342/1342 [==============================] - 12s 9ms/step - loss: 0.3288 - accuracy: 0.8689 - val_loss: 1.3818 - val_accuracy: 0.6484\n",
      "Epoch 11/14\n",
      "1342/1342 [==============================] - 12s 9ms/step - loss: 0.3055 - accuracy: 0.8771 - val_loss: 1.5772 - val_accuracy: 0.6437\n",
      "Epoch 12/14\n",
      "1342/1342 [==============================] - 12s 9ms/step - loss: 0.2836 - accuracy: 0.8863 - val_loss: 1.6589 - val_accuracy: 0.6446\n",
      "Epoch 13/14\n",
      "1342/1342 [==============================] - 13s 9ms/step - loss: 0.2703 - accuracy: 0.8901 - val_loss: 1.7650 - val_accuracy: 0.6494\n",
      "Epoch 14/14\n",
      "1342/1342 [==============================] - 13s 9ms/step - loss: 0.2497 - accuracy: 0.8985 - val_loss: 1.9650 - val_accuracy: 0.6432\n"
     ]
    }
   ],
   "source": [
    "#set random seed\n",
    "tf.random.set_seed(42)\n",
    "#create the model\n",
    "nn_200=tf.keras.Sequential([\n",
    "    tf.keras.layers.Dense(len(X_train_nonsmote.columns), activation=\"relu\"),\n",
    "    tf.keras.layers.Dense(70,activation=\"relu\"),\n",
    "    tf.keras.layers.Dense(70,activation=\"relu\"),\n",
    "    tf.keras.layers.Dense(30,activation=\"relu\"),\n",
    "    tf.keras.layers.Dense(10,activation=\"relu\"),\n",
    "    tf.keras.layers.Dense(6,activation=\"softmax\")\n",
    "])\n",
    "#compile the model\n",
    "nn_200.compile(\n",
    "   #loss='categorical_crossentropy',\n",
    "   loss=tf.keras.losses.SparseCategoricalCrossentropy(),\n",
    "   optimizer=tf.keras.optimizers.Adam(),\n",
    "   metrics=\"accuracy\")\n",
    "#create a learning rate callback\n",
    "lr_scheduler = tf.keras.callbacks.LearningRateScheduler(lambda epoch : 1e-3 )\n",
    "#fit the model\n",
    "epoch_num = 14\n",
    "fit_lr_history =nn_200.fit(\n",
    "   X_train_nonsmote,\n",
    "   y_train_nonsmote,\n",
    "   epochs=epoch_num,\n",
    "   callbacks=[lr_scheduler],\n",
    "   validation_data=(X_test_nonsmote,y_test_nonsmote),\n",
    "   verbose=1)"
   ]
  },
  {
   "cell_type": "code",
   "execution_count": 15,
   "metadata": {},
   "outputs": [
    {
     "data": {
      "image/png": "[encoded data removed]",
      "text/plain": [
       "<Figure size 432x288 with 1 Axes>"
      ]
     },
     "metadata": {
      "needs_background": "light"
     },
     "output_type": "display_data"
    }
   ],
   "source": [
    "plt.plot(fit_lr_history.history['accuracy'])\n",
    "plt.plot(fit_lr_history.history['val_accuracy'])\n",
    "plt.title('model accuracy')\n",
    "plt.ylabel('accuracy')\n",
    "plt.xlabel('epoch')\n",
    "plt.legend(['train', 'test'], loc='upper left')\n",
    "plt.show()"
   ]
  },
  {
   "cell_type": "code",
   "execution_count": 18,
   "metadata": {},
   "outputs": [],
   "source": [
    "y_pred_nonsmote = nn_200.predict(X_test_nonsmote)\n",
    "y_pred_nonsmote = [np.argmax(x) for x in y_pred_nonsmote]"
   ]
  },
  {
   "cell_type": "code",
   "execution_count": 19,
   "metadata": {},
   "outputs": [
    {
     "data": {
      "image/png": "[encoded data removed]",
      "text/plain": [
       "<Figure size 432x288 with 2 Axes>"
      ]
     },
     "metadata": {
      "needs_background": "light"
     },
     "output_type": "display_data"
    }
   ],
   "source": [
    "cf_matrix_nonsmote = confusion_matrix(y_test_nonsmote, y_pred_nonsmote)\n",
    "ax_nonsmote = sns.heatmap(cf_matrix_nonsmote, annot=True, cmap='Blues')\n",
    "\n",
    "ax_nonsmote.set_title('Seaborn Confusion Matrix with labels\\n\\n')\n",
    "ax_nonsmote.set_xlabel('\\nPredicted Values')\n",
    "ax_nonsmote.set_ylabel('Actual Values ')\n",
    "plt.show()"
   ]
  },
  {
   "cell_type": "code",
   "execution_count": 20,
   "metadata": {
    "scrolled": true
   },
   "outputs": [
    {
     "name": "stdout",
     "output_type": "stream",
     "text": [
      "              precision    recall  f1-score   support\n",
      "\n",
      "           0       0.87      0.90      0.88      5326\n",
      "           1       0.24      0.13      0.17       706\n",
      "           2       0.40      0.52      0.45      1800\n",
      "           3       0.44      0.38      0.41      1889\n",
      "           4       0.42      0.37      0.40       971\n",
      "           5       0.85      0.28      0.42        40\n",
      "\n",
      "    accuracy                           0.64     10732\n",
      "   macro avg       0.54      0.43      0.45     10732\n",
      "weighted avg       0.63      0.64      0.64     10732\n",
      "\n"
     ]
    }
   ],
   "source": [
    "print(classification_report(y_test_nonsmote, y_pred_nonsmote, target_names=[str(i) for i in range(6)]))"
   ]
  },
  {
   "cell_type": "markdown",
   "metadata": {},
   "source": [
    "# Using Preprocessed Version 4\n",
    "Preprocessed Versions 2 and 3 + Drop low (0) variance variables"
   ]
  },
  {
   "cell_type": "code",
   "execution_count": 21,
   "metadata": {},
   "outputs": [],
   "source": [
    "X_train_nonsmote = pd.read_csv('xy_train_v4.csv', index_col=False)\n",
    "y_train_nonsmote = X_train_nonsmote[[\"redlistCategory\"]]\n",
    "X_train_nonsmote = X_train_nonsmote.drop(columns=['internalTaxonId', 'Unnamed: 0', \"redlistCategory\"])"
   ]
  },
  {
   "cell_type": "code",
   "execution_count": 22,
   "metadata": {},
   "outputs": [],
   "source": [
    "X_test_nonsmote = pd.read_csv('xy_test_v4.csv', index_col=False)\n",
    "y_test_nonsmote = X_test_nonsmote[[\"redlistCategory\"]]\n",
    "X_test_nonsmote = X_test_nonsmote.drop(columns=['internalTaxonId', 'Unnamed: 0', \"redlistCategory\"])"
   ]
  },
  {
   "cell_type": "code",
   "execution_count": 23,
   "metadata": {},
   "outputs": [
    {
     "name": "stdout",
     "output_type": "stream",
     "text": [
      "Epoch 1/14\n",
      "WARNING:tensorflow:Layer dense_21 is casting an input tensor from dtype float64 to the layer's dtype of float32, which is new behavior in TensorFlow 2.  The layer has dtype float32 because its dtype defaults to floatx.\n",
      "\n",
      "If you intended to run this layer in float32, you can safely ignore this warning. If in doubt, this warning is likely only an issue if you are porting a TensorFlow 1.X model to TensorFlow 2.\n",
      "\n",
      "To change all layers to have dtype float64 by default, call `tf.keras.backend.set_floatx('float64')`. To change just this layer, pass dtype='float64' to the layer constructor. If you are the author of this layer, you can disable autocasting by passing autocast=False to the base Layer constructor.\n",
      "\n",
      "1342/1342 [==============================] - 12s 9ms/step - loss: 0.9298 - accuracy: 0.6263 - val_loss: 0.8674 - val_accuracy: 0.6419\n",
      "Epoch 2/14\n",
      "1342/1342 [==============================] - 12s 9ms/step - loss: 0.8081 - accuracy: 0.6680 - val_loss: 0.8493 - val_accuracy: 0.6552\n",
      "Epoch 3/14\n",
      "1342/1342 [==============================] - 12s 9ms/step - loss: 0.7350 - accuracy: 0.6993 - val_loss: 0.8414 - val_accuracy: 0.6514\n",
      "Epoch 4/14\n",
      "1342/1342 [==============================] - 12s 9ms/step - loss: 0.6655 - accuracy: 0.7284 - val_loss: 0.8763 - val_accuracy: 0.6646\n",
      "Epoch 5/14\n",
      "1342/1342 [==============================] - 12s 9ms/step - loss: 0.5924 - accuracy: 0.7604 - val_loss: 0.9432 - val_accuracy: 0.6618\n",
      "Epoch 6/14\n",
      "1342/1342 [==============================] - 12s 9ms/step - loss: 0.5208 - accuracy: 0.7901 - val_loss: 0.9918 - val_accuracy: 0.6563\n",
      "Epoch 7/14\n",
      "1342/1342 [==============================] - 12s 9ms/step - loss: 0.4598 - accuracy: 0.8185 - val_loss: 1.1407 - val_accuracy: 0.6489\n",
      "Epoch 8/14\n",
      "1342/1342 [==============================] - 12s 9ms/step - loss: 0.4081 - accuracy: 0.8377 - val_loss: 1.2019 - val_accuracy: 0.6428\n",
      "Epoch 9/14\n",
      "1342/1342 [==============================] - 12s 9ms/step - loss: 0.3674 - accuracy: 0.8530 - val_loss: 1.3459 - val_accuracy: 0.6511\n",
      "Epoch 10/14\n",
      "1342/1342 [==============================] - 12s 9ms/step - loss: 0.3353 - accuracy: 0.8652 - val_loss: 1.3820 - val_accuracy: 0.6507\n",
      "Epoch 11/14\n",
      "1342/1342 [==============================] - 12s 9ms/step - loss: 0.3128 - accuracy: 0.8742 - val_loss: 1.4683 - val_accuracy: 0.6449\n",
      "Epoch 12/14\n",
      "1342/1342 [==============================] - 12s 9ms/step - loss: 0.2897 - accuracy: 0.8817 - val_loss: 1.6858 - val_accuracy: 0.6434\n",
      "Epoch 13/14\n",
      "1342/1342 [==============================] - 12s 9ms/step - loss: 0.2714 - accuracy: 0.8910 - val_loss: 1.7416 - val_accuracy: 0.6515\n",
      "Epoch 14/14\n",
      "1342/1342 [==============================] - 12s 9ms/step - loss: 0.2585 - accuracy: 0.8959 - val_loss: 1.7606 - val_accuracy: 0.6530\n"
     ]
    }
   ],
   "source": [
    "#set random seed\n",
    "tf.random.set_seed(42)\n",
    "#create the model\n",
    "nn_200=tf.keras.Sequential([\n",
    "    tf.keras.layers.Dense(len(X_train_nonsmote.columns), activation=\"relu\"),\n",
    "    tf.keras.layers.Dense(70,activation=\"relu\"),\n",
    "    tf.keras.layers.Dense(70,activation=\"relu\"),\n",
    "    tf.keras.layers.Dense(30,activation=\"relu\"),\n",
    "    tf.keras.layers.Dense(10,activation=\"relu\"),\n",
    "    tf.keras.layers.Dense(6,activation=\"softmax\")\n",
    "])\n",
    "#compile the model\n",
    "nn_200.compile(\n",
    "   #loss='categorical_crossentropy',\n",
    "   loss=tf.keras.losses.SparseCategoricalCrossentropy(),\n",
    "   optimizer=tf.keras.optimizers.Adam(),\n",
    "   metrics=\"accuracy\")\n",
    "#create a learning rate callback\n",
    "lr_scheduler = tf.keras.callbacks.LearningRateScheduler(lambda epoch : 1e-3 )\n",
    "#fit the model\n",
    "epoch_num = 14\n",
    "fit_lr_history =nn_200.fit(\n",
    "   X_train_nonsmote,\n",
    "   y_train_nonsmote,\n",
    "   epochs=epoch_num,\n",
    "   callbacks=[lr_scheduler],\n",
    "   validation_data=(X_test_nonsmote,y_test_nonsmote),\n",
    "   verbose=1)"
   ]
  },
  {
   "cell_type": "code",
   "execution_count": 24,
   "metadata": {},
   "outputs": [
    {
     "data": {
      "image/png": "[encoded data removed]",
      "text/plain": [
       "<Figure size 432x288 with 1 Axes>"
      ]
     },
     "metadata": {
      "needs_background": "light"
     },
     "output_type": "display_data"
    }
   ],
   "source": [
    "plt.plot(fit_lr_history.history['accuracy'])\n",
    "plt.plot(fit_lr_history.history['val_accuracy'])\n",
    "plt.title('model accuracy')\n",
    "plt.ylabel('accuracy')\n",
    "plt.xlabel('epoch')\n",
    "plt.legend(['train', 'test'], loc='upper left')\n",
    "plt.show()"
   ]
  },
  {
   "cell_type": "code",
   "execution_count": 25,
   "metadata": {},
   "outputs": [],
   "source": [
    "y_pred_nonsmote = nn_200.predict(X_test_nonsmote)\n",
    "y_pred_nonsmote = [np.argmax(x) for x in y_pred_nonsmote]"
   ]
  },
  {
   "cell_type": "code",
   "execution_count": 26,
   "metadata": {},
   "outputs": [
    {
     "data": {
      "image/png": "[encoded data removed]",
      "text/plain": [
       "<Figure size 432x288 with 2 Axes>"
      ]
     },
     "metadata": {
      "needs_background": "light"
     },
     "output_type": "display_data"
    }
   ],
   "source": [
    "cf_matrix_nonsmote = confusion_matrix(y_test_nonsmote, y_pred_nonsmote)\n",
    "ax_nonsmote = sns.heatmap(cf_matrix_nonsmote, annot=True, cmap='Blues')\n",
    "\n",
    "ax_nonsmote.set_title('Seaborn Confusion Matrix with labels\\n\\n')\n",
    "ax_nonsmote.set_xlabel('\\nPredicted Values')\n",
    "ax_nonsmote.set_ylabel('Actual Values ')\n",
    "plt.show()"
   ]
  },
  {
   "cell_type": "code",
   "execution_count": 27,
   "metadata": {
    "scrolled": true
   },
   "outputs": [
    {
     "name": "stdout",
     "output_type": "stream",
     "text": [
      "              precision    recall  f1-score   support\n",
      "\n",
      "           0       0.86      0.91      0.89      5326\n",
      "           1       0.26      0.15      0.19       706\n",
      "           2       0.41      0.47      0.44      1800\n",
      "           3       0.45      0.45      0.45      1889\n",
      "           4       0.46      0.37      0.41       971\n",
      "           5       0.50      0.33      0.39        40\n",
      "\n",
      "    accuracy                           0.65     10732\n",
      "   macro avg       0.49      0.44      0.46     10732\n",
      "weighted avg       0.64      0.65      0.64     10732\n",
      "\n"
     ]
    }
   ],
   "source": [
    "print(classification_report(y_test_nonsmote, y_pred_nonsmote, target_names=[str(i) for i in range(6)]))"
   ]
  },
  {
   "cell_type": "markdown",
   "metadata": {},
   "source": [
    "## SMOTEN\n",
    "SMOTE Nominal Oversampling"
   ]
  },
  {
   "cell_type": "code",
   "execution_count": 28,
   "metadata": {},
   "outputs": [],
   "source": [
    "X_train_nonsmote = pd.read_csv('xy_train_v4.csv', index_col=False)\n",
    "y_train_nonsmote = X_train_nonsmote[[\"redlistCategory\"]]\n",
    "X_train_nonsmote = X_train_nonsmote.drop(columns=['internalTaxonId', 'Unnamed: 0', \"redlistCategory\"])"
   ]
  },
  {
   "cell_type": "code",
   "execution_count": 29,
   "metadata": {},
   "outputs": [],
   "source": [
    "X_test_nonsmote = pd.read_csv('xy_test_v4.csv', index_col=False)\n",
    "y_test_nonsmote = X_test_nonsmote[[\"redlistCategory\"]]\n",
    "X_test_nonsmote = X_test_nonsmote.drop(columns=['internalTaxonId', 'Unnamed: 0', \"redlistCategory\"])"
   ]
  },
  {
   "cell_type": "code",
   "execution_count": 30,
   "metadata": {},
   "outputs": [],
   "source": [
    "smoten = SMOTEN(random_state=1)\n",
    "X_train_smoten, y_train_smoten = smoten.fit_resample(X_train_nonsmote, y_train_nonsmote)"
   ]
  },
  {
   "cell_type": "code",
   "execution_count": 31,
   "metadata": {},
   "outputs": [],
   "source": [
    "xy_train_smoten = X_train_smoten.copy()\n",
    "xy_train_smoten[\"redlistCategory\"] = y_train_smoten[\"redlistCategory\"]\n",
    "xy_train_smoten.to_csv(\"xy_train_smoten_v4.csv\", index=False)"
   ]
  },
  {
   "cell_type": "code",
   "execution_count": 33,
   "metadata": {},
   "outputs": [
    {
     "data": {
      "text/html": [
       "<div>\n",
       "<style scoped>\n",
       "    .dataframe tbody tr th:only-of-type {\n",
       "        vertical-align: middle;\n",
       "    }\n",
       "\n",
       "    .dataframe tbody tr th {\n",
       "        vertical-align: top;\n",
       "    }\n",
       "\n",
       "    .dataframe thead th {\n",
       "        text-align: right;\n",
       "    }\n",
       "</style>\n",
       "<table border=\"1\" class=\"dataframe\">\n",
       "  <thead>\n",
       "    <tr style=\"text-align: right;\">\n",
       "      <th></th>\n",
       "      <th>systems_Freshwater (=Inland waters)</th>\n",
       "      <th>systems_Marine</th>\n",
       "      <th>systems_Terrestrial</th>\n",
       "      <th>systems_Unknown</th>\n",
       "      <th>realm_Afrotropical</th>\n",
       "      <th>realm_Antarctic</th>\n",
       "      <th>realm_Australasian</th>\n",
       "      <th>realm_Indomalayan</th>\n",
       "      <th>realm_Nearctic</th>\n",
       "      <th>realm_Neotropical</th>\n",
       "      <th>...</th>\n",
       "      <th>usetrade_name_Medicine - human &amp; veterinary</th>\n",
       "      <th>usetrade_name_Other (free text)</th>\n",
       "      <th>usetrade_name_Other chemicals</th>\n",
       "      <th>usetrade_name_Other household goods</th>\n",
       "      <th>usetrade_name_Pets/display animals, horticulture</th>\n",
       "      <th>usetrade_name_Poisons</th>\n",
       "      <th>usetrade_name_Research</th>\n",
       "      <th>usetrade_name_Sport hunting/specimen collecting</th>\n",
       "      <th>usetrade_name_Unknown</th>\n",
       "      <th>usetrade_name_Wearing apparel, accessories</th>\n",
       "    </tr>\n",
       "  </thead>\n",
       "  <tbody>\n",
       "    <tr>\n",
       "      <th>0</th>\n",
       "      <td>0.0</td>\n",
       "      <td>0.0</td>\n",
       "      <td>1.0</td>\n",
       "      <td>0.0</td>\n",
       "      <td>0.0</td>\n",
       "      <td>0.0</td>\n",
       "      <td>0.0</td>\n",
       "      <td>1.0</td>\n",
       "      <td>0.0</td>\n",
       "      <td>0.0</td>\n",
       "      <td>...</td>\n",
       "      <td>0.0</td>\n",
       "      <td>0.0</td>\n",
       "      <td>0.0</td>\n",
       "      <td>1.0</td>\n",
       "      <td>0.0</td>\n",
       "      <td>0.0</td>\n",
       "      <td>0.0</td>\n",
       "      <td>0.0</td>\n",
       "      <td>0.0</td>\n",
       "      <td>0.0</td>\n",
       "    </tr>\n",
       "    <tr>\n",
       "      <th>1</th>\n",
       "      <td>0.0</td>\n",
       "      <td>0.0</td>\n",
       "      <td>1.0</td>\n",
       "      <td>0.0</td>\n",
       "      <td>1.0</td>\n",
       "      <td>0.0</td>\n",
       "      <td>0.0</td>\n",
       "      <td>0.0</td>\n",
       "      <td>0.0</td>\n",
       "      <td>0.0</td>\n",
       "      <td>...</td>\n",
       "      <td>0.0</td>\n",
       "      <td>0.0</td>\n",
       "      <td>0.0</td>\n",
       "      <td>0.0</td>\n",
       "      <td>0.0</td>\n",
       "      <td>0.0</td>\n",
       "      <td>0.0</td>\n",
       "      <td>0.0</td>\n",
       "      <td>0.0</td>\n",
       "      <td>0.0</td>\n",
       "    </tr>\n",
       "    <tr>\n",
       "      <th>2</th>\n",
       "      <td>0.0</td>\n",
       "      <td>0.0</td>\n",
       "      <td>1.0</td>\n",
       "      <td>0.0</td>\n",
       "      <td>0.0</td>\n",
       "      <td>0.0</td>\n",
       "      <td>0.0</td>\n",
       "      <td>0.0</td>\n",
       "      <td>0.0</td>\n",
       "      <td>0.0</td>\n",
       "      <td>...</td>\n",
       "      <td>0.0</td>\n",
       "      <td>0.0</td>\n",
       "      <td>0.0</td>\n",
       "      <td>0.0</td>\n",
       "      <td>0.0</td>\n",
       "      <td>0.0</td>\n",
       "      <td>0.0</td>\n",
       "      <td>0.0</td>\n",
       "      <td>0.0</td>\n",
       "      <td>0.0</td>\n",
       "    </tr>\n",
       "    <tr>\n",
       "      <th>3</th>\n",
       "      <td>0.0</td>\n",
       "      <td>0.0</td>\n",
       "      <td>1.0</td>\n",
       "      <td>0.0</td>\n",
       "      <td>0.0</td>\n",
       "      <td>0.0</td>\n",
       "      <td>0.0</td>\n",
       "      <td>0.0</td>\n",
       "      <td>0.0</td>\n",
       "      <td>1.0</td>\n",
       "      <td>...</td>\n",
       "      <td>0.0</td>\n",
       "      <td>0.0</td>\n",
       "      <td>0.0</td>\n",
       "      <td>0.0</td>\n",
       "      <td>0.0</td>\n",
       "      <td>0.0</td>\n",
       "      <td>0.0</td>\n",
       "      <td>0.0</td>\n",
       "      <td>0.0</td>\n",
       "      <td>0.0</td>\n",
       "    </tr>\n",
       "    <tr>\n",
       "      <th>4</th>\n",
       "      <td>0.0</td>\n",
       "      <td>0.0</td>\n",
       "      <td>1.0</td>\n",
       "      <td>0.0</td>\n",
       "      <td>1.0</td>\n",
       "      <td>0.0</td>\n",
       "      <td>0.0</td>\n",
       "      <td>0.0</td>\n",
       "      <td>0.0</td>\n",
       "      <td>0.0</td>\n",
       "      <td>...</td>\n",
       "      <td>1.0</td>\n",
       "      <td>1.0</td>\n",
       "      <td>0.0</td>\n",
       "      <td>0.0</td>\n",
       "      <td>1.0</td>\n",
       "      <td>0.0</td>\n",
       "      <td>0.0</td>\n",
       "      <td>0.0</td>\n",
       "      <td>0.0</td>\n",
       "      <td>0.0</td>\n",
       "    </tr>\n",
       "    <tr>\n",
       "      <th>...</th>\n",
       "      <td>...</td>\n",
       "      <td>...</td>\n",
       "      <td>...</td>\n",
       "      <td>...</td>\n",
       "      <td>...</td>\n",
       "      <td>...</td>\n",
       "      <td>...</td>\n",
       "      <td>...</td>\n",
       "      <td>...</td>\n",
       "      <td>...</td>\n",
       "      <td>...</td>\n",
       "      <td>...</td>\n",
       "      <td>...</td>\n",
       "      <td>...</td>\n",
       "      <td>...</td>\n",
       "      <td>...</td>\n",
       "      <td>...</td>\n",
       "      <td>...</td>\n",
       "      <td>...</td>\n",
       "      <td>...</td>\n",
       "      <td>...</td>\n",
       "    </tr>\n",
       "    <tr>\n",
       "      <th>127981</th>\n",
       "      <td>0.0</td>\n",
       "      <td>0.0</td>\n",
       "      <td>1.0</td>\n",
       "      <td>0.0</td>\n",
       "      <td>0.0</td>\n",
       "      <td>0.0</td>\n",
       "      <td>0.0</td>\n",
       "      <td>0.0</td>\n",
       "      <td>0.0</td>\n",
       "      <td>0.0</td>\n",
       "      <td>...</td>\n",
       "      <td>0.0</td>\n",
       "      <td>0.0</td>\n",
       "      <td>0.0</td>\n",
       "      <td>0.0</td>\n",
       "      <td>0.0</td>\n",
       "      <td>0.0</td>\n",
       "      <td>0.0</td>\n",
       "      <td>0.0</td>\n",
       "      <td>0.0</td>\n",
       "      <td>0.0</td>\n",
       "    </tr>\n",
       "    <tr>\n",
       "      <th>127982</th>\n",
       "      <td>0.0</td>\n",
       "      <td>0.0</td>\n",
       "      <td>1.0</td>\n",
       "      <td>0.0</td>\n",
       "      <td>0.0</td>\n",
       "      <td>0.0</td>\n",
       "      <td>0.0</td>\n",
       "      <td>0.0</td>\n",
       "      <td>0.0</td>\n",
       "      <td>0.0</td>\n",
       "      <td>...</td>\n",
       "      <td>0.0</td>\n",
       "      <td>0.0</td>\n",
       "      <td>0.0</td>\n",
       "      <td>0.0</td>\n",
       "      <td>0.0</td>\n",
       "      <td>0.0</td>\n",
       "      <td>0.0</td>\n",
       "      <td>0.0</td>\n",
       "      <td>0.0</td>\n",
       "      <td>0.0</td>\n",
       "    </tr>\n",
       "    <tr>\n",
       "      <th>127983</th>\n",
       "      <td>0.0</td>\n",
       "      <td>0.0</td>\n",
       "      <td>1.0</td>\n",
       "      <td>0.0</td>\n",
       "      <td>0.0</td>\n",
       "      <td>0.0</td>\n",
       "      <td>0.0</td>\n",
       "      <td>0.0</td>\n",
       "      <td>0.0</td>\n",
       "      <td>1.0</td>\n",
       "      <td>...</td>\n",
       "      <td>0.0</td>\n",
       "      <td>0.0</td>\n",
       "      <td>0.0</td>\n",
       "      <td>0.0</td>\n",
       "      <td>0.0</td>\n",
       "      <td>0.0</td>\n",
       "      <td>0.0</td>\n",
       "      <td>0.0</td>\n",
       "      <td>0.0</td>\n",
       "      <td>0.0</td>\n",
       "    </tr>\n",
       "    <tr>\n",
       "      <th>127984</th>\n",
       "      <td>0.0</td>\n",
       "      <td>0.0</td>\n",
       "      <td>1.0</td>\n",
       "      <td>0.0</td>\n",
       "      <td>0.0</td>\n",
       "      <td>0.0</td>\n",
       "      <td>0.0</td>\n",
       "      <td>0.0</td>\n",
       "      <td>0.0</td>\n",
       "      <td>0.0</td>\n",
       "      <td>...</td>\n",
       "      <td>0.0</td>\n",
       "      <td>0.0</td>\n",
       "      <td>0.0</td>\n",
       "      <td>0.0</td>\n",
       "      <td>0.0</td>\n",
       "      <td>0.0</td>\n",
       "      <td>0.0</td>\n",
       "      <td>0.0</td>\n",
       "      <td>0.0</td>\n",
       "      <td>0.0</td>\n",
       "    </tr>\n",
       "    <tr>\n",
       "      <th>127985</th>\n",
       "      <td>0.0</td>\n",
       "      <td>0.0</td>\n",
       "      <td>1.0</td>\n",
       "      <td>0.0</td>\n",
       "      <td>1.0</td>\n",
       "      <td>0.0</td>\n",
       "      <td>0.0</td>\n",
       "      <td>0.0</td>\n",
       "      <td>0.0</td>\n",
       "      <td>0.0</td>\n",
       "      <td>...</td>\n",
       "      <td>0.0</td>\n",
       "      <td>0.0</td>\n",
       "      <td>0.0</td>\n",
       "      <td>0.0</td>\n",
       "      <td>1.0</td>\n",
       "      <td>0.0</td>\n",
       "      <td>0.0</td>\n",
       "      <td>0.0</td>\n",
       "      <td>0.0</td>\n",
       "      <td>0.0</td>\n",
       "    </tr>\n",
       "  </tbody>\n",
       "</table>\n",
       "<p>127986 rows × 1130 columns</p>\n",
       "</div>"
      ],
      "text/plain": [
       "        systems_Freshwater (=Inland waters)  systems_Marine  \\\n",
       "0                                       0.0             0.0   \n",
       "1                                       0.0             0.0   \n",
       "2                                       0.0             0.0   \n",
       "3                                       0.0             0.0   \n",
       "4                                       0.0             0.0   \n",
       "...                                     ...             ...   \n",
       "127981                                  0.0             0.0   \n",
       "127982                                  0.0             0.0   \n",
       "127983                                  0.0             0.0   \n",
       "127984                                  0.0             0.0   \n",
       "127985                                  0.0             0.0   \n",
       "\n",
       "        systems_Terrestrial  systems_Unknown  realm_Afrotropical  \\\n",
       "0                       1.0              0.0                 0.0   \n",
       "1                       1.0              0.0                 1.0   \n",
       "2                       1.0              0.0                 0.0   \n",
       "3                       1.0              0.0                 0.0   \n",
       "4                       1.0              0.0                 1.0   \n",
       "...                     ...              ...                 ...   \n",
       "127981                  1.0              0.0                 0.0   \n",
       "127982                  1.0              0.0                 0.0   \n",
       "127983                  1.0              0.0                 0.0   \n",
       "127984                  1.0              0.0                 0.0   \n",
       "127985                  1.0              0.0                 1.0   \n",
       "\n",
       "        realm_Antarctic  realm_Australasian  realm_Indomalayan  \\\n",
       "0                   0.0                 0.0                1.0   \n",
       "1                   0.0                 0.0                0.0   \n",
       "2                   0.0                 0.0                0.0   \n",
       "3                   0.0                 0.0                0.0   \n",
       "4                   0.0                 0.0                0.0   \n",
       "...                 ...                 ...                ...   \n",
       "127981              0.0                 0.0                0.0   \n",
       "127982              0.0                 0.0                0.0   \n",
       "127983              0.0                 0.0                0.0   \n",
       "127984              0.0                 0.0                0.0   \n",
       "127985              0.0                 0.0                0.0   \n",
       "\n",
       "        realm_Nearctic  realm_Neotropical  ...  \\\n",
       "0                  0.0                0.0  ...   \n",
       "1                  0.0                0.0  ...   \n",
       "2                  0.0                0.0  ...   \n",
       "3                  0.0                1.0  ...   \n",
       "4                  0.0                0.0  ...   \n",
       "...                ...                ...  ...   \n",
       "127981             0.0                0.0  ...   \n",
       "127982             0.0                0.0  ...   \n",
       "127983             0.0                1.0  ...   \n",
       "127984             0.0                0.0  ...   \n",
       "127985             0.0                0.0  ...   \n",
       "\n",
       "        usetrade_name_Medicine - human & veterinary  \\\n",
       "0                                               0.0   \n",
       "1                                               0.0   \n",
       "2                                               0.0   \n",
       "3                                               0.0   \n",
       "4                                               1.0   \n",
       "...                                             ...   \n",
       "127981                                          0.0   \n",
       "127982                                          0.0   \n",
       "127983                                          0.0   \n",
       "127984                                          0.0   \n",
       "127985                                          0.0   \n",
       "\n",
       "        usetrade_name_Other (free text)  usetrade_name_Other chemicals  \\\n",
       "0                                   0.0                            0.0   \n",
       "1                                   0.0                            0.0   \n",
       "2                                   0.0                            0.0   \n",
       "3                                   0.0                            0.0   \n",
       "4                                   1.0                            0.0   \n",
       "...                                 ...                            ...   \n",
       "127981                              0.0                            0.0   \n",
       "127982                              0.0                            0.0   \n",
       "127983                              0.0                            0.0   \n",
       "127984                              0.0                            0.0   \n",
       "127985                              0.0                            0.0   \n",
       "\n",
       "        usetrade_name_Other household goods  \\\n",
       "0                                       1.0   \n",
       "1                                       0.0   \n",
       "2                                       0.0   \n",
       "3                                       0.0   \n",
       "4                                       0.0   \n",
       "...                                     ...   \n",
       "127981                                  0.0   \n",
       "127982                                  0.0   \n",
       "127983                                  0.0   \n",
       "127984                                  0.0   \n",
       "127985                                  0.0   \n",
       "\n",
       "        usetrade_name_Pets/display animals, horticulture  \\\n",
       "0                                                    0.0   \n",
       "1                                                    0.0   \n",
       "2                                                    0.0   \n",
       "3                                                    0.0   \n",
       "4                                                    1.0   \n",
       "...                                                  ...   \n",
       "127981                                               0.0   \n",
       "127982                                               0.0   \n",
       "127983                                               0.0   \n",
       "127984                                               0.0   \n",
       "127985                                               1.0   \n",
       "\n",
       "        usetrade_name_Poisons  usetrade_name_Research  \\\n",
       "0                         0.0                     0.0   \n",
       "1                         0.0                     0.0   \n",
       "2                         0.0                     0.0   \n",
       "3                         0.0                     0.0   \n",
       "4                         0.0                     0.0   \n",
       "...                       ...                     ...   \n",
       "127981                    0.0                     0.0   \n",
       "127982                    0.0                     0.0   \n",
       "127983                    0.0                     0.0   \n",
       "127984                    0.0                     0.0   \n",
       "127985                    0.0                     0.0   \n",
       "\n",
       "        usetrade_name_Sport hunting/specimen collecting  \\\n",
       "0                                                   0.0   \n",
       "1                                                   0.0   \n",
       "2                                                   0.0   \n",
       "3                                                   0.0   \n",
       "4                                                   0.0   \n",
       "...                                                 ...   \n",
       "127981                                              0.0   \n",
       "127982                                              0.0   \n",
       "127983                                              0.0   \n",
       "127984                                              0.0   \n",
       "127985                                              0.0   \n",
       "\n",
       "        usetrade_name_Unknown  usetrade_name_Wearing apparel, accessories  \n",
       "0                         0.0                                         0.0  \n",
       "1                         0.0                                         0.0  \n",
       "2                         0.0                                         0.0  \n",
       "3                         0.0                                         0.0  \n",
       "4                         0.0                                         0.0  \n",
       "...                       ...                                         ...  \n",
       "127981                    0.0                                         0.0  \n",
       "127982                    0.0                                         0.0  \n",
       "127983                    0.0                                         0.0  \n",
       "127984                    0.0                                         0.0  \n",
       "127985                    0.0                                         0.0  \n",
       "\n",
       "[127986 rows x 1130 columns]"
      ]
     },
     "execution_count": 33,
     "metadata": {},
     "output_type": "execute_result"
    }
   ],
   "source": [
    "X_train_smoten"
   ]
  },
  {
   "cell_type": "code",
   "execution_count": 34,
   "metadata": {
    "scrolled": true
   },
   "outputs": [
    {
     "name": "stdout",
     "output_type": "stream",
     "text": [
      "Epoch 1/14\n",
      "WARNING:tensorflow:Layer dense_27 is casting an input tensor from dtype float64 to the layer's dtype of float32, which is new behavior in TensorFlow 2.  The layer has dtype float32 because its dtype defaults to floatx.\n",
      "\n",
      "If you intended to run this layer in float32, you can safely ignore this warning. If in doubt, this warning is likely only an issue if you are porting a TensorFlow 1.X model to TensorFlow 2.\n",
      "\n",
      "To change all layers to have dtype float64 by default, call `tf.keras.backend.set_floatx('float64')`. To change just this layer, pass dtype='float64' to the layer constructor. If you are the author of this layer, you can disable autocasting by passing autocast=False to the base Layer constructor.\n",
      "\n",
      "4000/4000 [==============================] - 34s 9ms/step - loss: 0.8558 - accuracy: 0.6562\n",
      "Epoch 2/14\n",
      "4000/4000 [==============================] - 33s 8ms/step - loss: 0.6631 - accuracy: 0.7430\n",
      "Epoch 3/14\n",
      "4000/4000 [==============================] - 33s 8ms/step - loss: 0.5696 - accuracy: 0.7822\n",
      "Epoch 4/14\n",
      "4000/4000 [==============================] - 34s 9ms/step - loss: 0.5038 - accuracy: 0.8082\n",
      "Epoch 5/14\n",
      "4000/4000 [==============================] - 33s 8ms/step - loss: 0.4544 - accuracy: 0.8266\n",
      "Epoch 6/14\n",
      "4000/4000 [==============================] - 32s 8ms/step - loss: 0.4160 - accuracy: 0.8418\n",
      "Epoch 7/14\n",
      "4000/4000 [==============================] - 33s 8ms/step - loss: 0.3877 - accuracy: 0.8526\n",
      "Epoch 8/14\n",
      "4000/4000 [==============================] - 33s 8ms/step - loss: 0.3659 - accuracy: 0.8593\n",
      "Epoch 9/14\n",
      "4000/4000 [==============================] - 37s 9ms/step - loss: 0.3474 - accuracy: 0.8666\n",
      "Epoch 10/14\n",
      "4000/4000 [==============================] - 40s 10ms/step - loss: 0.3351 - accuracy: 0.8704\n",
      "Epoch 11/14\n",
      "4000/4000 [==============================] - 41s 10ms/step - loss: 0.3226 - accuracy: 0.8758\n",
      "Epoch 12/14\n",
      "4000/4000 [==============================] - 37s 9ms/step - loss: 0.3133 - accuracy: 0.8775\n",
      "Epoch 13/14\n",
      "4000/4000 [==============================] - 36s 9ms/step - loss: 0.3051 - accuracy: 0.8809\n",
      "Epoch 14/14\n",
      "4000/4000 [==============================] - 36s 9ms/step - loss: 0.2963 - accuracy: 0.8840\n"
     ]
    }
   ],
   "source": [
    "#set random seed\n",
    "tf.random.set_seed(42)\n",
    "#create the model\n",
    "nn_200_smoten=tf.keras.Sequential([\n",
    "    tf.keras.layers.Dense(len(X_train_smoten.columns), activation=\"relu\"),\n",
    "    tf.keras.layers.Dense(70,activation=\"relu\"),\n",
    "    tf.keras.layers.Dense(70,activation=\"relu\"),\n",
    "    tf.keras.layers.Dense(30,activation=\"relu\"),\n",
    "    tf.keras.layers.Dense(10,activation=\"relu\"),\n",
    "    tf.keras.layers.Dense(6,activation=\"softmax\")\n",
    "])\n",
    "#compile the model\n",
    "nn_200_smoten.compile(\n",
    "   #loss='categorical_crossentropy',\n",
    "   loss=tf.keras.losses.SparseCategoricalCrossentropy(),\n",
    "   optimizer=tf.keras.optimizers.Adam(),\n",
    "   metrics=\"accuracy\")\n",
    "#create a learning rate callback\n",
    "lr_scheduler = tf.keras.callbacks.LearningRateScheduler(lambda epoch : 1e-3 )\n",
    "#fit the model\n",
    "epoch_num = 14\n",
    "fit_lr_history =nn_200_smoten.fit(\n",
    "   X_train_smoten,\n",
    "   y_train_smoten,\n",
    "   epochs=epoch_num,\n",
    "   callbacks=[lr_scheduler],\n",
    "   verbose=1)"
   ]
  },
  {
   "cell_type": "code",
   "execution_count": 35,
   "metadata": {},
   "outputs": [],
   "source": [
    "y_pred_smoten = nn_200_smoten.predict(X_test_nonsmote)\n",
    "y_pred_smoten = [np.argmax(x) for x in y_pred_smoten]"
   ]
  },
  {
   "cell_type": "code",
   "execution_count": 36,
   "metadata": {},
   "outputs": [
    {
     "data": {
      "image/png": "[encoded data removed]",
      "text/plain": [
       "<Figure size 432x288 with 2 Axes>"
      ]
     },
     "metadata": {
      "needs_background": "light"
     },
     "output_type": "display_data"
    }
   ],
   "source": [
    "cf_matrix_smoten = confusion_matrix(y_test_nonsmote, y_pred_smoten)\n",
    "ax_smoten = sns.heatmap(cf_matrix_smoten, annot=True, cmap='Blues')\n",
    "\n",
    "ax_smoten.set_title('Seaborn Confusion Matrix with labels\\n\\n')\n",
    "ax_smoten.set_xlabel('\\nPredicted Values')\n",
    "ax_smoten.set_ylabel('Actual Values ')\n",
    "plt.show()"
   ]
  },
  {
   "cell_type": "code",
   "execution_count": 37,
   "metadata": {},
   "outputs": [
    {
     "name": "stdout",
     "output_type": "stream",
     "text": [
      "              precision    recall  f1-score   support\n",
      "\n",
      "           0       0.87      0.89      0.88      5326\n",
      "           1       0.21      0.20      0.20       706\n",
      "           2       0.42      0.41      0.41      1800\n",
      "           3       0.41      0.46      0.44      1889\n",
      "           4       0.40      0.33      0.36       971\n",
      "           5       0.64      0.17      0.27        40\n",
      "\n",
      "    accuracy                           0.63     10732\n",
      "   macro avg       0.49      0.41      0.43     10732\n",
      "weighted avg       0.63      0.63      0.63     10732\n",
      "\n"
     ]
    }
   ],
   "source": [
    "print(classification_report(y_test_nonsmote, y_pred_smoten, target_names=[str(i) for i in range(6)]))"
   ]
  },
  {
   "cell_type": "markdown",
   "metadata": {},
   "source": [
    "# Using Preprocessed Version 5\n",
    "Currently in Preprocessing_v2.ipynb <br>\n",
    "Preprocessed Versions 2-4 + Feature (Number of countries species is present)"
   ]
  },
  {
   "cell_type": "code",
   "execution_count": 38,
   "metadata": {},
   "outputs": [],
   "source": [
    "X_train_nonsmote = pd.read_csv('xy_train_v5.csv', index_col=False)\n",
    "y_train_nonsmote = X_train_nonsmote[[\"redlistCategory\"]]\n",
    "X_train_nonsmote = X_train_nonsmote.drop(columns=['internalTaxonId', 'Unnamed: 0', \"redlistCategory\"])"
   ]
  },
  {
   "cell_type": "code",
   "execution_count": 39,
   "metadata": {},
   "outputs": [],
   "source": [
    "X_test_nonsmote = pd.read_csv('xy_test_v5.csv', index_col=False)\n",
    "y_test_nonsmote = X_test_nonsmote[[\"redlistCategory\"]]\n",
    "X_test_nonsmote = X_test_nonsmote.drop(columns=['internalTaxonId', 'Unnamed: 0', \"redlistCategory\"])"
   ]
  },
  {
   "cell_type": "code",
   "execution_count": 40,
   "metadata": {},
   "outputs": [
    {
     "name": "stdout",
     "output_type": "stream",
     "text": [
      "Epoch 1/14\n",
      "WARNING:tensorflow:Layer dense_33 is casting an input tensor from dtype float64 to the layer's dtype of float32, which is new behavior in TensorFlow 2.  The layer has dtype float32 because its dtype defaults to floatx.\n",
      "\n",
      "If you intended to run this layer in float32, you can safely ignore this warning. If in doubt, this warning is likely only an issue if you are porting a TensorFlow 1.X model to TensorFlow 2.\n",
      "\n",
      "To change all layers to have dtype float64 by default, call `tf.keras.backend.set_floatx('float64')`. To change just this layer, pass dtype='float64' to the layer constructor. If you are the author of this layer, you can disable autocasting by passing autocast=False to the base Layer constructor.\n",
      "\n",
      "1342/1342 [==============================] - 20s 15ms/step - loss: 0.9164 - accuracy: 0.6331 - val_loss: 0.8536 - val_accuracy: 0.6457\n",
      "Epoch 2/14\n",
      "1342/1342 [==============================] - 19s 14ms/step - loss: 0.8029 - accuracy: 0.6729 - val_loss: 0.8584 - val_accuracy: 0.6519\n",
      "Epoch 3/14\n",
      "1342/1342 [==============================] - 16s 12ms/step - loss: 0.7357 - accuracy: 0.7009 - val_loss: 0.8423 - val_accuracy: 0.6544\n",
      "Epoch 4/14\n",
      "1342/1342 [==============================] - 16s 12ms/step - loss: 0.6704 - accuracy: 0.7312 - val_loss: 0.8536 - val_accuracy: 0.6589\n",
      "Epoch 5/14\n",
      "1342/1342 [==============================] - 16s 12ms/step - loss: 0.6020 - accuracy: 0.7574 - val_loss: 0.9166 - val_accuracy: 0.6595\n",
      "Epoch 6/14\n",
      "1342/1342 [==============================] - 16s 12ms/step - loss: 0.5348 - accuracy: 0.7857 - val_loss: 0.9692 - val_accuracy: 0.6564\n",
      "Epoch 7/14\n",
      "1342/1342 [==============================] - 15s 11ms/step - loss: 0.4716 - accuracy: 0.8119 - val_loss: 1.0825 - val_accuracy: 0.6518\n",
      "Epoch 8/14\n",
      "1342/1342 [==============================] - 16s 12ms/step - loss: 0.4195 - accuracy: 0.8327 - val_loss: 1.1686 - val_accuracy: 0.6422\n",
      "Epoch 9/14\n",
      "1342/1342 [==============================] - 15s 11ms/step - loss: 0.3832 - accuracy: 0.8468 - val_loss: 1.3476 - val_accuracy: 0.6524\n",
      "Epoch 10/14\n",
      "1342/1342 [==============================] - 15s 11ms/step - loss: 0.3505 - accuracy: 0.8585 - val_loss: 1.3301 - val_accuracy: 0.6457\n",
      "Epoch 11/14\n",
      "1342/1342 [==============================] - 15s 11ms/step - loss: 0.3265 - accuracy: 0.8690 - val_loss: 1.5113 - val_accuracy: 0.6377\n",
      "Epoch 12/14\n",
      "1342/1342 [==============================] - 16s 12ms/step - loss: 0.3038 - accuracy: 0.8773 - val_loss: 1.6209 - val_accuracy: 0.6504\n",
      "Epoch 13/14\n",
      "1342/1342 [==============================] - 16s 12ms/step - loss: 0.2822 - accuracy: 0.8854 - val_loss: 1.6913 - val_accuracy: 0.6488\n",
      "Epoch 14/14\n",
      "1342/1342 [==============================] - 16s 12ms/step - loss: 0.2745 - accuracy: 0.8894 - val_loss: 1.7241 - val_accuracy: 0.6509\n"
     ]
    }
   ],
   "source": [
    "#set random seed\n",
    "tf.random.set_seed(42)\n",
    "#create the model\n",
    "nn_200=tf.keras.Sequential([\n",
    "    tf.keras.layers.Dense(len(X_train_nonsmote.columns), activation=\"relu\"),\n",
    "    tf.keras.layers.Dense(70,activation=\"relu\"),\n",
    "    tf.keras.layers.Dense(70,activation=\"relu\"),\n",
    "    tf.keras.layers.Dense(30,activation=\"relu\"),\n",
    "    tf.keras.layers.Dense(10,activation=\"relu\"),\n",
    "    tf.keras.layers.Dense(6,activation=\"softmax\")\n",
    "])\n",
    "#compile the model\n",
    "nn_200.compile(\n",
    "   #loss='categorical_crossentropy',\n",
    "   loss=tf.keras.losses.SparseCategoricalCrossentropy(),\n",
    "   optimizer=tf.keras.optimizers.Adam(),\n",
    "   metrics=\"accuracy\")\n",
    "#create a learning rate callback\n",
    "lr_scheduler = tf.keras.callbacks.LearningRateScheduler(lambda epoch : 1e-3 )\n",
    "#fit the model\n",
    "epoch_num = 14\n",
    "fit_lr_history =nn_200.fit(\n",
    "   X_train_nonsmote,\n",
    "   y_train_nonsmote,\n",
    "   epochs=epoch_num,\n",
    "   callbacks=[lr_scheduler],\n",
    "   validation_data=(X_test_nonsmote,y_test_nonsmote),\n",
    "   verbose=1)"
   ]
  },
  {
   "cell_type": "code",
   "execution_count": 41,
   "metadata": {},
   "outputs": [
    {
     "data": {
      "image/png": "[encoded data removed]",
      "text/plain": [
       "<Figure size 432x288 with 1 Axes>"
      ]
     },
     "metadata": {
      "needs_background": "light"
     },
     "output_type": "display_data"
    }
   ],
   "source": [
    "plt.plot(fit_lr_history.history['accuracy'])\n",
    "plt.plot(fit_lr_history.history['val_accuracy'])\n",
    "plt.title('model accuracy')\n",
    "plt.ylabel('accuracy')\n",
    "plt.xlabel('epoch')\n",
    "plt.legend(['train', 'test'], loc='upper left')\n",
    "plt.show()"
   ]
  },
  {
   "cell_type": "code",
   "execution_count": 42,
   "metadata": {},
   "outputs": [],
   "source": [
    "y_pred_nonsmote = nn_200.predict(X_test_nonsmote)\n",
    "y_pred_nonsmote = [np.argmax(x) for x in y_pred_nonsmote]"
   ]
  },
  {
   "cell_type": "code",
   "execution_count": 43,
   "metadata": {},
   "outputs": [
    {
     "data": {
      "image/png": "[encoded data removed]",
      "text/plain": [
       "<Figure size 432x288 with 2 Axes>"
      ]
     },
     "metadata": {
      "needs_background": "light"
     },
     "output_type": "display_data"
    }
   ],
   "source": [
    "cf_matrix_nonsmote = confusion_matrix(y_test_nonsmote, y_pred_nonsmote)\n",
    "ax_nonsmote = sns.heatmap(cf_matrix_nonsmote, annot=True, cmap='Blues')\n",
    "\n",
    "ax_nonsmote.set_title('Seaborn Confusion Matrix with labels\\n\\n')\n",
    "ax_nonsmote.set_xlabel('\\nPredicted Values')\n",
    "ax_nonsmote.set_ylabel('Actual Values ')\n",
    "plt.show()"
   ]
  },
  {
   "cell_type": "code",
   "execution_count": 44,
   "metadata": {
    "scrolled": true
   },
   "outputs": [
    {
     "name": "stdout",
     "output_type": "stream",
     "text": [
      "              precision    recall  f1-score   support\n",
      "\n",
      "           0       0.86      0.92      0.89      5326\n",
      "           1       0.26      0.15      0.19       706\n",
      "           2       0.40      0.51      0.45      1800\n",
      "           3       0.45      0.39      0.42      1889\n",
      "           4       0.49      0.34      0.40       971\n",
      "           5       0.69      0.23      0.34        40\n",
      "\n",
      "    accuracy                           0.65     10732\n",
      "   macro avg       0.52      0.42      0.45     10732\n",
      "weighted avg       0.64      0.65      0.64     10732\n",
      "\n"
     ]
    }
   ],
   "source": [
    "print(classification_report(y_test_nonsmote, y_pred_nonsmote, target_names=[str(i) for i in range(6)]))"
   ]
  },
  {
   "cell_type": "markdown",
   "metadata": {},
   "source": [
    "# Using Preprocessed Version 6\n",
    "Currently in Preprocessing_v2.ipynb <br>\n",
    "Preprocessed Version 5 but with categories 1-5 merged."
   ]
  },
  {
   "cell_type": "code",
   "execution_count": 4,
   "metadata": {},
   "outputs": [],
   "source": [
    "X_train_nonsmote = pd.read_csv('xy_train_v6.csv', index_col=False)\n",
    "y_train_nonsmote = X_train_nonsmote[[\"redlistCategory\"]]\n",
    "X_train_nonsmote = X_train_nonsmote.drop(columns=['internalTaxonId', 'Unnamed: 0', \"redlistCategory\"])"
   ]
  },
  {
   "cell_type": "code",
   "execution_count": 5,
   "metadata": {},
   "outputs": [],
   "source": [
    "X_test_nonsmote = pd.read_csv('xy_test_v6.csv', index_col=False)\n",
    "y_test_nonsmote = X_test_nonsmote[[\"redlistCategory\"]]\n",
    "X_test_nonsmote = X_test_nonsmote.drop(columns=['internalTaxonId', 'Unnamed: 0', \"redlistCategory\"])"
   ]
  },
  {
   "cell_type": "code",
   "execution_count": 6,
   "metadata": {},
   "outputs": [
    {
     "name": "stderr",
     "output_type": "stream",
     "text": [
      "2022-06-01 15:51:15.045718: I tensorflow/core/platform/cpu_feature_guard.cc:193] This TensorFlow binary is optimized with oneAPI Deep Neural Network Library (oneDNN) to use the following CPU instructions in performance-critical operations:  AVX2 FMA\n",
      "To enable them in other operations, rebuild TensorFlow with the appropriate compiler flags.\n"
     ]
    },
    {
     "name": "stdout",
     "output_type": "stream",
     "text": [
      "Epoch 1/14\n",
      "1342/1342 [==============================] - 31s 21ms/step - loss: 0.3059 - accuracy: 0.8764 - val_loss: 0.2556 - val_accuracy: 0.8947 - lr: 0.0010\n",
      "Epoch 2/14\n",
      "1342/1342 [==============================] - 27s 20ms/step - loss: 0.2285 - accuracy: 0.9050 - val_loss: 0.2539 - val_accuracy: 0.8969 - lr: 0.0010\n",
      "Epoch 3/14\n",
      "1342/1342 [==============================] - 27s 20ms/step - loss: 0.1964 - accuracy: 0.9196 - val_loss: 0.2589 - val_accuracy: 0.8933 - lr: 0.0010\n",
      "Epoch 4/14\n",
      "1342/1342 [==============================] - 26s 20ms/step - loss: 0.1691 - accuracy: 0.9312 - val_loss: 0.2919 - val_accuracy: 0.8978 - lr: 0.0010\n",
      "Epoch 5/14\n",
      "1342/1342 [==============================] - 27s 20ms/step - loss: 0.1436 - accuracy: 0.9416 - val_loss: 0.3155 - val_accuracy: 0.8935 - lr: 0.0010\n",
      "Epoch 6/14\n",
      "1342/1342 [==============================] - 29s 22ms/step - loss: 0.1246 - accuracy: 0.9486 - val_loss: 0.3255 - val_accuracy: 0.8948 - lr: 0.0010\n",
      "Epoch 7/14\n",
      "1342/1342 [==============================] - 29s 22ms/step - loss: 0.1083 - accuracy: 0.9550 - val_loss: 0.3793 - val_accuracy: 0.8944 - lr: 0.0010\n",
      "Epoch 8/14\n",
      "1342/1342 [==============================] - 31s 23ms/step - loss: 0.0977 - accuracy: 0.9586 - val_loss: 0.4073 - val_accuracy: 0.8956 - lr: 0.0010\n",
      "Epoch 9/14\n",
      "1342/1342 [==============================] - 28s 21ms/step - loss: 0.0890 - accuracy: 0.9629 - val_loss: 0.4153 - val_accuracy: 0.8921 - lr: 0.0010\n",
      "Epoch 10/14\n",
      "1342/1342 [==============================] - 28s 21ms/step - loss: 0.0823 - accuracy: 0.9655 - val_loss: 0.4405 - val_accuracy: 0.8876 - lr: 0.0010\n",
      "Epoch 11/14\n",
      "1342/1342 [==============================] - 27s 20ms/step - loss: 0.0762 - accuracy: 0.9676 - val_loss: 0.4569 - val_accuracy: 0.8935 - lr: 0.0010\n",
      "Epoch 12/14\n",
      "1342/1342 [==============================] - 27s 20ms/step - loss: 0.0722 - accuracy: 0.9688 - val_loss: 0.5282 - val_accuracy: 0.8932 - lr: 0.0010\n",
      "Epoch 13/14\n",
      "1342/1342 [==============================] - 29s 22ms/step - loss: 0.0671 - accuracy: 0.9716 - val_loss: 0.5677 - val_accuracy: 0.8891 - lr: 0.0010\n",
      "Epoch 14/14\n",
      "1342/1342 [==============================] - 27s 20ms/step - loss: 0.0646 - accuracy: 0.9722 - val_loss: 0.5791 - val_accuracy: 0.8944 - lr: 0.0010\n"
     ]
    }
   ],
   "source": [
    "#set random seed\n",
    "tf.random.set_seed(42)\n",
    "#create the model\n",
    "nn_200=tf.keras.Sequential([\n",
    "    tf.keras.layers.Dense(len(X_train_nonsmote.columns), activation=\"relu\"),\n",
    "    tf.keras.layers.Dense(70,activation=\"relu\"),\n",
    "    tf.keras.layers.Dense(70,activation=\"relu\"),\n",
    "    tf.keras.layers.Dense(30,activation=\"relu\"),\n",
    "    tf.keras.layers.Dense(10,activation=\"relu\"),\n",
    "    tf.keras.layers.Dense(6,activation=\"softmax\")\n",
    "])\n",
    "#compile the model\n",
    "nn_200.compile(\n",
    "   #loss='categorical_crossentropy',\n",
    "   loss=tf.keras.losses.SparseCategoricalCrossentropy(),\n",
    "   optimizer=tf.keras.optimizers.Adam(),\n",
    "   metrics=\"accuracy\")\n",
    "#create a learning rate callback\n",
    "lr_scheduler = tf.keras.callbacks.LearningRateScheduler(lambda epoch : 1e-3 )\n",
    "#fit the model\n",
    "epoch_num = 14\n",
    "fit_lr_history =nn_200.fit(\n",
    "   X_train_nonsmote,\n",
    "   y_train_nonsmote,\n",
    "   epochs=epoch_num,\n",
    "   callbacks=[lr_scheduler],\n",
    "   validation_data=(X_test_nonsmote,y_test_nonsmote),\n",
    "   verbose=1)"
   ]
  },
  {
   "cell_type": "code",
   "execution_count": 7,
   "metadata": {},
   "outputs": [
    {
     "data": {
      "image/png": "[encoded data removed]",
      "text/plain": [
       "<Figure size 432x288 with 1 Axes>"
      ]
     },
     "metadata": {
      "needs_background": "light"
     },
     "output_type": "display_data"
    }
   ],
   "source": [
    "plt.plot(fit_lr_history.history['accuracy'])\n",
    "plt.plot(fit_lr_history.history['val_accuracy'])\n",
    "plt.title('model accuracy')\n",
    "plt.ylabel('accuracy')\n",
    "plt.xlabel('epoch')\n",
    "plt.legend(['train', 'test'], loc='upper left')\n",
    "plt.show()"
   ]
  },
  {
   "cell_type": "code",
   "execution_count": 8,
   "metadata": {},
   "outputs": [
    {
     "name": "stdout",
     "output_type": "stream",
     "text": [
      "336/336 [==============================] - 3s 9ms/step\n"
     ]
    }
   ],
   "source": [
    "y_pred_nonsmote = nn_200.predict(X_test_nonsmote)\n",
    "y_pred_nonsmote = [np.argmax(x) for x in y_pred_nonsmote]"
   ]
  },
  {
   "cell_type": "code",
   "execution_count": 9,
   "metadata": {},
   "outputs": [
    {
     "data": {
      "image/png": "[encoded data removed]",
      "text/plain": [
       "<Figure size 432x288 with 2 Axes>"
      ]
     },
     "metadata": {
      "needs_background": "light"
     },
     "output_type": "display_data"
    }
   ],
   "source": [
    "cf_matrix_nonsmote = confusion_matrix(y_test_nonsmote, y_pred_nonsmote)\n",
    "ax_nonsmote = sns.heatmap(cf_matrix_nonsmote, annot=True, cmap='Blues')\n",
    "\n",
    "ax_nonsmote.set_title('Seaborn Confusion Matrix with labels\\n\\n')\n",
    "ax_nonsmote.set_xlabel('\\nPredicted Values')\n",
    "ax_nonsmote.set_ylabel('Actual Values ')\n",
    "plt.show()"
   ]
  },
  {
   "cell_type": "code",
   "execution_count": 11,
   "metadata": {
    "scrolled": true
   },
   "outputs": [
    {
     "name": "stdout",
     "output_type": "stream",
     "text": [
      "              precision    recall  f1-score   support\n",
      "\n",
      "           0       0.90      0.89      0.89      5326\n",
      "           1       0.89      0.90      0.90      5406\n",
      "\n",
      "    accuracy                           0.89     10732\n",
      "   macro avg       0.89      0.89      0.89     10732\n",
      "weighted avg       0.89      0.89      0.89     10732\n",
      "\n"
     ]
    }
   ],
   "source": [
    "print(classification_report(y_test_nonsmote, y_pred_nonsmote, target_names=[str(i) for i in range(2)]))"
   ]
  }
 ],
 "metadata": {
  "interpreter": {
   "hash": "b953798fe347f786892b879e764b10c207e87c32e8af840710ae3bba4436573d"
  },
  "kernelspec": {
   "display_name": "Python 3.9.7 ('base')",
   "language": "python",
   "name": "python3"
  },
  "language_info": {
   "codemirror_mode": {
    "name": "ipython",
    "version": 3
   },
   "file_extension": ".py",
   "mimetype": "text/x-python",
   "name": "python",
   "nbconvert_exporter": "python",
   "pygments_lexer": "ipython3",
   "version": "3.9.7"
  }
 },
 "nbformat": 4,
 "nbformat_minor": 2
}
