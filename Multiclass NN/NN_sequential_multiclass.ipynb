{
 "cells": [
  {
   "cell_type": "code",
   "execution_count": 1,
   "metadata": {},
   "outputs": [],
   "source": [
    "import tensorflow as tf\n",
    "import pandas as pd\n",
    "import numpy as np\n",
    "from sklearn.model_selection import train_test_split\n",
    "import matplotlib.pyplot as plt"
   ]
  },
  {
   "cell_type": "code",
   "execution_count": 2,
   "metadata": {},
   "outputs": [
    {
     "name": "stdout",
     "output_type": "stream",
     "text": [
      "X shape:  (127986, 100) y shape:  (127986, 1)\n"
     ]
    }
   ],
   "source": [
    "X = pd.read_csv('X_sm_100features.csv', index_col=False)\n",
    "X = X.drop(columns=['internalTaxonId', 'Unnamed: 0'])\n",
    "y = pd.read_csv('y_sm_100features.csv', index_col=False)\n",
    "y = y[[\"redlistCategory\"]]\n",
    "\n",
    "print(\"X shape: \", X.shape, \"y shape: \", y.shape)"
   ]
  },
  {
   "cell_type": "code",
   "execution_count": 3,
   "metadata": {},
   "outputs": [
    {
     "data": {
      "text/plain": [
       "4    21331\n",
       "0    21331\n",
       "2    21331\n",
       "1    21331\n",
       "3    21331\n",
       "5    21331\n",
       "Name: redlistCategory, dtype: int64"
      ]
     },
     "execution_count": 3,
     "metadata": {},
     "output_type": "execute_result"
    }
   ],
   "source": [
    "y.redlistCategory.value_counts()"
   ]
  },
  {
   "cell_type": "code",
   "execution_count": 4,
   "metadata": {},
   "outputs": [
    {
     "data": {
      "text/plain": [
       "'y = y.replace({\\n    0: \"Least Concern\",\\n    1: \"Near Threatened\",\\n    2: \"Vulnerable\",\\n    3: \"Endangered\",\\n    4: \"Critically Endangered\",\\n    5: \"Extinct in the Wild\",\\n    6: \"Extinct\",\\n})'"
      ]
     },
     "execution_count": 4,
     "metadata": {},
     "output_type": "execute_result"
    }
   ],
   "source": [
    "'''y = y.replace({\n",
    "    0: \"Least Concern\",\n",
    "    1: \"Near Threatened\",\n",
    "    2: \"Vulnerable\",\n",
    "    3: \"Endangered\",\n",
    "    4: \"Critically Endangered\",\n",
    "    5: \"Extinct in the Wild\",\n",
    "    6: \"Extinct\",\n",
    "})'''"
   ]
  },
  {
   "cell_type": "code",
   "execution_count": 5,
   "metadata": {},
   "outputs": [],
   "source": [
    "#y = pd.get_dummies(y.redlistCategory)\n",
    "#y.head()"
   ]
  },
  {
   "cell_type": "code",
   "execution_count": 6,
   "metadata": {},
   "outputs": [],
   "source": [
    "X_train, X_test, y_train, y_test = train_test_split(X,y,test_size=0.33,random_state=42)"
   ]
  },
  {
   "cell_type": "code",
   "execution_count": 7,
   "metadata": {},
   "outputs": [
    {
     "data": {
      "text/html": [
       "<div>\n",
       "<style scoped>\n",
       "    .dataframe tbody tr th:only-of-type {\n",
       "        vertical-align: middle;\n",
       "    }\n",
       "\n",
       "    .dataframe tbody tr th {\n",
       "        vertical-align: top;\n",
       "    }\n",
       "\n",
       "    .dataframe thead th {\n",
       "        text-align: right;\n",
       "    }\n",
       "</style>\n",
       "<table border=\"1\" class=\"dataframe\">\n",
       "  <thead>\n",
       "    <tr style=\"text-align: right;\">\n",
       "      <th></th>\n",
       "      <th>redlistCategory</th>\n",
       "    </tr>\n",
       "  </thead>\n",
       "  <tbody>\n",
       "    <tr>\n",
       "      <th>23857</th>\n",
       "      <td>2</td>\n",
       "    </tr>\n",
       "    <tr>\n",
       "      <th>26688</th>\n",
       "      <td>0</td>\n",
       "    </tr>\n",
       "    <tr>\n",
       "      <th>119666</th>\n",
       "      <td>5</td>\n",
       "    </tr>\n",
       "    <tr>\n",
       "      <th>121623</th>\n",
       "      <td>5</td>\n",
       "    </tr>\n",
       "    <tr>\n",
       "      <th>11098</th>\n",
       "      <td>0</td>\n",
       "    </tr>\n",
       "  </tbody>\n",
       "</table>\n",
       "</div>"
      ],
      "text/plain": [
       "        redlistCategory\n",
       "23857                 2\n",
       "26688                 0\n",
       "119666                5\n",
       "121623                5\n",
       "11098                 0"
      ]
     },
     "execution_count": 7,
     "metadata": {},
     "output_type": "execute_result"
    }
   ],
   "source": [
    "y_test.head()"
   ]
  },
  {
   "cell_type": "code",
   "execution_count": 8,
   "metadata": {},
   "outputs": [
    {
     "name": "stdout",
     "output_type": "stream",
     "text": [
      "Epoch 1/14\n",
      "2680/2680 [==============================] - 9s 3ms/step - loss: 1.1161 - accuracy: 0.5305 - val_loss: 1.0350 - val_accuracy: 0.5640 - lr: 0.0010\n",
      "Epoch 2/14\n",
      "2680/2680 [==============================] - 7s 3ms/step - loss: 0.9833 - accuracy: 0.5917 - val_loss: 0.9551 - val_accuracy: 0.6028 - lr: 0.0011\n",
      "Epoch 3/14\n",
      "2680/2680 [==============================] - 7s 2ms/step - loss: 0.9311 - accuracy: 0.6155 - val_loss: 0.9284 - val_accuracy: 0.6218 - lr: 0.0013\n",
      "Epoch 4/14\n",
      "2680/2680 [==============================] - 7s 2ms/step - loss: 0.8948 - accuracy: 0.6329 - val_loss: 0.9349 - val_accuracy: 0.6199 - lr: 0.0014\n",
      "Epoch 5/14\n",
      "2680/2680 [==============================] - 7s 3ms/step - loss: 0.8643 - accuracy: 0.6478 - val_loss: 0.8849 - val_accuracy: 0.6423 - lr: 0.0016\n",
      "Epoch 6/14\n",
      "2680/2680 [==============================] - 7s 3ms/step - loss: 0.8460 - accuracy: 0.6552 - val_loss: 0.8834 - val_accuracy: 0.6467 - lr: 0.0018\n",
      "Epoch 7/14\n",
      "2680/2680 [==============================] - 7s 3ms/step - loss: 0.8271 - accuracy: 0.6648 - val_loss: 0.8746 - val_accuracy: 0.6505 - lr: 0.0020\n",
      "Epoch 8/14\n",
      "2680/2680 [==============================] - 7s 2ms/step - loss: 0.8180 - accuracy: 0.6711 - val_loss: 0.8703 - val_accuracy: 0.6553 - lr: 0.0022\n",
      "Epoch 9/14\n",
      "2680/2680 [==============================] - 6s 2ms/step - loss: 0.8108 - accuracy: 0.6743 - val_loss: 0.8445 - val_accuracy: 0.6588 - lr: 0.0025\n",
      "Epoch 10/14\n",
      "2680/2680 [==============================] - 7s 3ms/step - loss: 0.8040 - accuracy: 0.6777 - val_loss: 0.8562 - val_accuracy: 0.6571 - lr: 0.0028\n",
      "Epoch 11/14\n",
      "2680/2680 [==============================] - 7s 3ms/step - loss: 0.8007 - accuracy: 0.6797 - val_loss: 0.8436 - val_accuracy: 0.6645 - lr: 0.0032\n",
      "Epoch 12/14\n",
      "2680/2680 [==============================] - 7s 3ms/step - loss: 0.8028 - accuracy: 0.6785 - val_loss: 0.8596 - val_accuracy: 0.6593 - lr: 0.0035\n",
      "Epoch 13/14\n",
      "2680/2680 [==============================] - 7s 3ms/step - loss: 0.7996 - accuracy: 0.6810 - val_loss: 0.8536 - val_accuracy: 0.6601 - lr: 0.0040\n",
      "Epoch 14/14\n",
      "2680/2680 [==============================] - 7s 3ms/step - loss: 0.8046 - accuracy: 0.6803 - val_loss: 0.8670 - val_accuracy: 0.6598 - lr: 0.0045\n"
     ]
    }
   ],
   "source": [
    "#set random seed\n",
    "tf.random.set_seed(42)\n",
    "#create the model\n",
    "model_12=tf.keras.Sequential([\n",
    "    tf.keras.layers.Dense(100, activation=\"relu\"),\n",
    "    tf.keras.layers.Dense(70,activation=\"relu\"),\n",
    "    tf.keras.layers.Dense(70,activation=\"relu\"),\n",
    "    tf.keras.layers.Dense(30,activation=\"relu\"),\n",
    "    tf.keras.layers.Dense(10,activation=\"relu\"),\n",
    "    tf.keras.layers.Dense(6,activation=\"softmax\")\n",
    "])\n",
    "#compile the model\n",
    "model_12.compile(\n",
    "   #loss='categorical_crossentropy',\n",
    "   loss=tf.keras.losses.SparseCategoricalCrossentropy(),\n",
    "   optimizer=tf.keras.optimizers.Adam(),\n",
    "   metrics=\"accuracy\")\n",
    "#create a learning rate callback\n",
    "lr_scheduler = tf.keras.callbacks.LearningRateScheduler(lambda epoch : 1e-3 *10**(epoch/20) )\n",
    "#fit the model\n",
    "epoch_num = 14\n",
    "fit_lr_history =model_12.fit(\n",
    "   X_train,\n",
    "   y_train,\n",
    "   epochs=epoch_num,\n",
    "   callbacks=[lr_scheduler],\n",
    "   validation_data=(X_test,y_test),\n",
    "   verbose=1)"
   ]
  },
  {
   "cell_type": "code",
   "execution_count": 9,
   "metadata": {},
   "outputs": [
    {
     "name": "stdout",
     "output_type": "stream",
     "text": [
      "1320/1320 [==============================] - 2s 2ms/step - loss: 0.8670 - accuracy: 0.6598\n"
     ]
    }
   ],
   "source": [
    "a = model_12.evaluate(X_test,y_test)"
   ]
  },
  {
   "cell_type": "code",
   "execution_count": 10,
   "metadata": {},
   "outputs": [
    {
     "data": {
      "image/png": "[encoded data removed]",
      "text/plain": [
       "<Figure size 432x288 with 1 Axes>"
      ]
     },
     "metadata": {
      "needs_background": "light"
     },
     "output_type": "display_data"
    }
   ],
   "source": [
    "plt.plot(fit_lr_history.history['accuracy'])\n",
    "plt.plot(fit_lr_history.history['val_accuracy'])\n",
    "plt.title('model accuracy')\n",
    "plt.ylabel('accuracy')\n",
    "plt.xlabel('epoch')\n",
    "plt.legend(['train', 'test'], loc='upper left')\n",
    "plt.show()"
   ]
  },
  {
   "cell_type": "code",
   "execution_count": 11,
   "metadata": {},
   "outputs": [
    {
     "name": "stdout",
     "output_type": "stream",
     "text": [
      "1320/1320 [==============================] - 2s 1ms/step\n"
     ]
    }
   ],
   "source": [
    "y_pred = model_12.predict(X_test)\n",
    "y_pred = [np.argmax(x) for x in y_pred]\n"
   ]
  },
  {
   "cell_type": "code",
   "execution_count": 12,
   "metadata": {},
   "outputs": [],
   "source": [
    "from sklearn.metrics import confusion_matrix, classification_report\n"
   ]
  },
  {
   "cell_type": "code",
   "execution_count": 13,
   "metadata": {},
   "outputs": [
    {
     "name": "stdout",
     "output_type": "stream",
     "text": [
      "              precision    recall  f1-score   support\n",
      "\n",
      "           0       0.82      0.82      0.82      7144\n",
      "           1       0.62      0.71      0.66      6993\n",
      "           2       0.45      0.48      0.46      7041\n",
      "           3       0.51      0.37      0.43      7020\n",
      "           4       0.61      0.60      0.60      7082\n",
      "           5       0.92      0.98      0.95      6956\n",
      "\n",
      "    accuracy                           0.66     42236\n",
      "   macro avg       0.65      0.66      0.65     42236\n",
      "weighted avg       0.65      0.66      0.65     42236\n",
      "\n"
     ]
    }
   ],
   "source": [
    "print(classification_report(y_test, y_pred,target_names=[str(i) for i in range(6)] ))"
   ]
  },
  {
   "cell_type": "code",
   "execution_count": 14,
   "metadata": {},
   "outputs": [
    {
     "data": {
      "text/plain": [
       "Text(0.5, 1.0, 'Finding the ideal Learning Rate')"
      ]
     },
     "execution_count": 14,
     "metadata": {},
     "output_type": "execute_result"
    },
    {
     "data": {
      "image/png": "[encoded data removed]",
      "text/plain": [
       "<Figure size 432x288 with 1 Axes>"
      ]
     },
     "metadata": {
      "needs_background": "light"
     },
     "output_type": "display_data"
    }
   ],
   "source": [
    "import matplotlib.pyplot as plt\n",
    "\n",
    "lrs =1e-3 *(10**(tf.range(epoch_num)/20))\n",
    "plt.semilogx(lrs,fit_lr_history.history[\"loss\"])\n",
    "plt.xlabel(\"Learning Rate\")\n",
    "plt.ylabel(\"Loss\")\n",
    "plt.title(\"Finding the ideal Learning Rate\")"
   ]
  },
  {
   "cell_type": "code",
   "execution_count": 15,
   "metadata": {},
   "outputs": [
    {
     "name": "stdout",
     "output_type": "stream",
     "text": [
      "[[5842  379  532  197  120   74]\n",
      " [ 349 4984 1030  236  307   87]\n",
      " [ 458 1056 3360 1032  840  295]\n",
      " [ 298 1016 1575 2589 1486   56]\n",
      " [ 190  619  928  996 4245  104]\n",
      " [  12   13   77    6    0 6848]]\n"
     ]
    },
    {
     "data": {
      "image/png": "[encoded data removed]",
      "text/plain": [
       "<Figure size 432x288 with 2 Axes>"
      ]
     },
     "metadata": {
      "needs_background": "light"
     },
     "output_type": "display_data"
    }
   ],
   "source": [
    "from sklearn.metrics import confusion_matrix\n",
    "#Generate the confusion matrix\n",
    "cf_matrix = confusion_matrix(y_test, y_pred)\n",
    "\n",
    "print(cf_matrix)\n",
    "#y_pred\n",
    "import seaborn as sns\n",
    "\n",
    "ax = sns.heatmap(cf_matrix, annot=True, cmap='Blues')\n",
    "\n",
    "ax.set_title('Confusion Matrix: Multilayer Multiclass\\n\\n')\n",
    "ax.set_xlabel('\\nPredicted Values')\n",
    "ax.set_ylabel('Actual Values ')\n",
    "\n",
    "## Ticket labels - List must be in alphabetical order\n",
    "#ax.xaxis.set_ticklabels(['False','True'])\n",
    "#ax.yaxis.set_ticklabels(['False','True'])\n",
    "\n",
    "## Display the visualization of the Confusion Matrix.\n",
    "plt.show()"
   ]
  },
  {
   "cell_type": "code",
   "execution_count": 16,
   "metadata": {},
   "outputs": [],
   "source": [
    "#from tensorflow.keras.utils import plot_model\n",
    "#see the inputs and outputs\n",
    "#plot_model(model_12,show_shapes=True)"
   ]
  }
 ],
 "metadata": {
  "interpreter": {
   "hash": "26de051ba29f2982a8de78e945f0abaf191376122a1563185a90213a26c5da77"
  },
  "kernelspec": {
   "display_name": "Python 3.10.4 64-bit",
   "language": "python",
   "name": "python3"
  },
  "language_info": {
   "codemirror_mode": {
    "name": "ipython",
    "version": 3
   },
   "file_extension": ".py",
   "mimetype": "text/x-python",
   "name": "python",
   "nbconvert_exporter": "python",
   "pygments_lexer": "ipython3",
   "version": "3.10.4"
  },
  "orig_nbformat": 4
 },
 "nbformat": 4,
 "nbformat_minor": 2
}
